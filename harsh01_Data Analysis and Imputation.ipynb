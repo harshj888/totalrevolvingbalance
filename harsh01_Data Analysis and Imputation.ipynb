{
 "cells": [
  {
   "cell_type": "markdown",
   "metadata": {
    "colab": {},
    "colab_type": "code",
    "id": "sjODfif-kgh3"
   },
   "source": [
    "## Data Analysis and Missing Imputation"
   ]
  },
  {
   "cell_type": "code",
   "execution_count": 18,
   "metadata": {
    "colab": {},
    "colab_type": "code",
    "id": "dXkDWZR8S6yH"
   },
   "outputs": [],
   "source": [
    "# Neccessary imports\n",
    "import pandas as pd\n",
    "import numpy as np"
   ]
  },
  {
   "cell_type": "code",
   "execution_count": 19,
   "metadata": {
    "colab": {
     "base_uri": "https://localhost:8080/",
     "height": 71
    },
    "colab_type": "code",
    "id": "8rBBY1joUZTF",
    "outputId": "8ce892cd-8871-4816-91ad-8e686870cb2e",
    "scrolled": true
   },
   "outputs": [
    {
     "name": "stderr",
     "output_type": "stream",
     "text": [
      "C:\\Users\\harsh\\anaconda3\\lib\\site-packages\\IPython\\core\\interactiveshell.py:3071: DtypeWarning: Columns (31) have mixed types.Specify dtype option on import or set low_memory=False.\n",
      "  has_raised = await self.run_ast_nodes(code_ast.body, cell_name,\n"
     ]
    }
   ],
   "source": [
    "# Reading the data\n",
    "data=pd.read_csv(r\"C:\\Users\\harsh\\Data.csv\",encoding='latin1')"
   ]
  },
  {
   "cell_type": "markdown",
   "metadata": {},
   "source": [
    "### # Early Data Exploration"
   ]
  },
  {
   "cell_type": "code",
   "execution_count": 7,
   "metadata": {},
   "outputs": [
    {
     "data": {
      "text/html": [
       "<div>\n",
       "<style scoped>\n",
       "    .dataframe tbody tr th:only-of-type {\n",
       "        vertical-align: middle;\n",
       "    }\n",
       "\n",
       "    .dataframe tbody tr th {\n",
       "        vertical-align: top;\n",
       "    }\n",
       "\n",
       "    .dataframe thead th {\n",
       "        text-align: right;\n",
       "    }\n",
       "</style>\n",
       "<table border=\"1\" class=\"dataframe\">\n",
       "  <thead>\n",
       "    <tr style=\"text-align: right;\">\n",
       "      <th></th>\n",
       "      <th>loan_amnt</th>\n",
       "      <th>terms</th>\n",
       "      <th>Rate_of_intrst</th>\n",
       "      <th>grade</th>\n",
       "      <th>sub_grade</th>\n",
       "      <th>Emp_designation</th>\n",
       "      <th>Experience</th>\n",
       "      <th>home_ownership</th>\n",
       "      <th>annual_inc</th>\n",
       "      <th>verification_status</th>\n",
       "      <th>...</th>\n",
       "      <th>recoveries</th>\n",
       "      <th>collection_recovery_fee</th>\n",
       "      <th>collections_12_mths_ex_med</th>\n",
       "      <th>mths_since_last_major_derog</th>\n",
       "      <th>application_type</th>\n",
       "      <th>verification_status_joint</th>\n",
       "      <th>last_week_pay</th>\n",
       "      <th>acc_now_delinq</th>\n",
       "      <th>tot_colle_amt</th>\n",
       "      <th>tot_curr_bal</th>\n",
       "    </tr>\n",
       "  </thead>\n",
       "  <tbody>\n",
       "    <tr>\n",
       "      <th>0</th>\n",
       "      <td>14350</td>\n",
       "      <td>36 months</td>\n",
       "      <td>19.19</td>\n",
       "      <td>E</td>\n",
       "      <td>E3</td>\n",
       "      <td>clerk</td>\n",
       "      <td>9 years</td>\n",
       "      <td>OWN</td>\n",
       "      <td>28700.0</td>\n",
       "      <td>Source Verified</td>\n",
       "      <td>...</td>\n",
       "      <td>0.0</td>\n",
       "      <td>0.0</td>\n",
       "      <td>0.0</td>\n",
       "      <td>74.0</td>\n",
       "      <td>INDIVIDUAL</td>\n",
       "      <td>NaN</td>\n",
       "      <td>26th week</td>\n",
       "      <td>0.0</td>\n",
       "      <td>0.0</td>\n",
       "      <td>28699.0</td>\n",
       "    </tr>\n",
       "    <tr>\n",
       "      <th>1</th>\n",
       "      <td>4800</td>\n",
       "      <td>36 months</td>\n",
       "      <td>10.99</td>\n",
       "      <td>B</td>\n",
       "      <td>B4</td>\n",
       "      <td>Human Resources Specialist</td>\n",
       "      <td>&lt; 1 year</td>\n",
       "      <td>MORTGAGE</td>\n",
       "      <td>65000.0</td>\n",
       "      <td>Source Verified</td>\n",
       "      <td>...</td>\n",
       "      <td>0.0</td>\n",
       "      <td>0.0</td>\n",
       "      <td>0.0</td>\n",
       "      <td>NaN</td>\n",
       "      <td>INDIVIDUAL</td>\n",
       "      <td>NaN</td>\n",
       "      <td>9th week</td>\n",
       "      <td>0.0</td>\n",
       "      <td>0.0</td>\n",
       "      <td>9974.0</td>\n",
       "    </tr>\n",
       "    <tr>\n",
       "      <th>2</th>\n",
       "      <td>10000</td>\n",
       "      <td>36 months</td>\n",
       "      <td>7.26</td>\n",
       "      <td>A</td>\n",
       "      <td>A4</td>\n",
       "      <td>Driver</td>\n",
       "      <td>2 years</td>\n",
       "      <td>OWN</td>\n",
       "      <td>45000.0</td>\n",
       "      <td>Not Verified</td>\n",
       "      <td>...</td>\n",
       "      <td>0.0</td>\n",
       "      <td>0.0</td>\n",
       "      <td>0.0</td>\n",
       "      <td>NaN</td>\n",
       "      <td>INDIVIDUAL</td>\n",
       "      <td>NaN</td>\n",
       "      <td>9th week</td>\n",
       "      <td>0.0</td>\n",
       "      <td>65.0</td>\n",
       "      <td>38295.0</td>\n",
       "    </tr>\n",
       "    <tr>\n",
       "      <th>3</th>\n",
       "      <td>15000</td>\n",
       "      <td>36 months</td>\n",
       "      <td>19.72</td>\n",
       "      <td>D</td>\n",
       "      <td>D5</td>\n",
       "      <td>Us office of Personnel Management</td>\n",
       "      <td>10+ years</td>\n",
       "      <td>RENT</td>\n",
       "      <td>105000.0</td>\n",
       "      <td>Not Verified</td>\n",
       "      <td>...</td>\n",
       "      <td>0.0</td>\n",
       "      <td>0.0</td>\n",
       "      <td>0.0</td>\n",
       "      <td>NaN</td>\n",
       "      <td>INDIVIDUAL</td>\n",
       "      <td>NaN</td>\n",
       "      <td>135th week</td>\n",
       "      <td>0.0</td>\n",
       "      <td>0.0</td>\n",
       "      <td>55564.0</td>\n",
       "    </tr>\n",
       "    <tr>\n",
       "      <th>4</th>\n",
       "      <td>16000</td>\n",
       "      <td>36 months</td>\n",
       "      <td>10.64</td>\n",
       "      <td>B</td>\n",
       "      <td>B2</td>\n",
       "      <td>LAUSD-HOLLYWOOD HIGH SCHOOL</td>\n",
       "      <td>10+ years</td>\n",
       "      <td>RENT</td>\n",
       "      <td>52000.0</td>\n",
       "      <td>Verified</td>\n",
       "      <td>...</td>\n",
       "      <td>0.0</td>\n",
       "      <td>0.0</td>\n",
       "      <td>0.0</td>\n",
       "      <td>NaN</td>\n",
       "      <td>INDIVIDUAL</td>\n",
       "      <td>NaN</td>\n",
       "      <td>96th week</td>\n",
       "      <td>0.0</td>\n",
       "      <td>0.0</td>\n",
       "      <td>47159.0</td>\n",
       "    </tr>\n",
       "  </tbody>\n",
       "</table>\n",
       "<p>5 rows × 34 columns</p>\n",
       "</div>"
      ],
      "text/plain": [
       "   loan_amnt       terms  Rate_of_intrst grade sub_grade  \\\n",
       "0       14350  36 months           19.19     E        E3   \n",
       "1        4800  36 months           10.99     B        B4   \n",
       "2       10000  36 months            7.26     A        A4   \n",
       "3       15000  36 months           19.72     D        D5   \n",
       "4       16000  36 months           10.64     B        B2   \n",
       "\n",
       "                     Emp_designation Experience home_ownership  annual_inc  \\\n",
       "0                              clerk    9 years            OWN     28700.0   \n",
       "1         Human Resources Specialist   < 1 year       MORTGAGE     65000.0   \n",
       "2                             Driver    2 years            OWN     45000.0   \n",
       "3  Us office of Personnel Management  10+ years           RENT    105000.0   \n",
       "4        LAUSD-HOLLYWOOD HIGH SCHOOL  10+ years           RENT     52000.0   \n",
       "\n",
       "  verification_status  ... recoveries collection_recovery_fee  \\\n",
       "0     Source Verified  ...        0.0                     0.0   \n",
       "1     Source Verified  ...        0.0                     0.0   \n",
       "2        Not Verified  ...        0.0                     0.0   \n",
       "3        Not Verified  ...        0.0                     0.0   \n",
       "4            Verified  ...        0.0                     0.0   \n",
       "\n",
       "   collections_12_mths_ex_med  mths_since_last_major_derog  application_type  \\\n",
       "0                         0.0                         74.0        INDIVIDUAL   \n",
       "1                         0.0                          NaN        INDIVIDUAL   \n",
       "2                         0.0                          NaN        INDIVIDUAL   \n",
       "3                         0.0                          NaN        INDIVIDUAL   \n",
       "4                         0.0                          NaN        INDIVIDUAL   \n",
       "\n",
       "   verification_status_joint  last_week_pay  acc_now_delinq  tot_colle_amt  \\\n",
       "0                        NaN      26th week             0.0            0.0   \n",
       "1                        NaN       9th week             0.0            0.0   \n",
       "2                        NaN       9th week             0.0           65.0   \n",
       "3                        NaN     135th week             0.0            0.0   \n",
       "4                        NaN      96th week             0.0            0.0   \n",
       "\n",
       "   tot_curr_bal  \n",
       "0       28699.0  \n",
       "1        9974.0  \n",
       "2       38295.0  \n",
       "3       55564.0  \n",
       "4       47159.0  \n",
       "\n",
       "[5 rows x 34 columns]"
      ]
     },
     "execution_count": 7,
     "metadata": {},
     "output_type": "execute_result"
    }
   ],
   "source": [
    "data.head()"
   ]
  },
  {
   "cell_type": "code",
   "execution_count": 9,
   "metadata": {
    "colab": {
     "base_uri": "https://localhost:8080/",
     "height": 221
    },
    "colab_type": "code",
    "id": "vDvoyKeGWoC6",
    "outputId": "2c897712-aa5a-4285-d6bd-c85a02ad1f2e"
   },
   "outputs": [
    {
     "data": {
      "text/plain": [
       "Index(['ï»¿member_id ', 'loan_amnt ', 'terms', 'batch_ID ', 'Rate_of_intrst',\n",
       "       'grade', 'sub_grade', 'Emp_designation', 'Experience', 'home_ownership',\n",
       "       'annual_inc', 'verification_status', 'purpose', 'State',\n",
       "       'debt_income_ratio', 'delinq_2yrs', 'inq_last_6mths',\n",
       "       'mths_since_last_delinq', 'mths_since_last_record', 'numb_credit',\n",
       "       'pub_rec', 'total revol_bal', 'total_credits', 'initial_list_status',\n",
       "       'total_rec_int', 'total_rec_late_fee', 'recoveries',\n",
       "       'collection_recovery_fee', 'collections_12_mths_ex_med',\n",
       "       'mths_since_last_major_derog', 'application_type',\n",
       "       'verification_status_joint', 'last_week_pay', 'acc_now_delinq',\n",
       "       'tot_colle_amt', 'tot_curr_bal'],\n",
       "      dtype='object')"
      ]
     },
     "execution_count": 9,
     "metadata": {},
     "output_type": "execute_result"
    }
   ],
   "source": [
    "data.columns"
   ]
  },
  {
   "cell_type": "code",
   "execution_count": 10,
   "metadata": {
    "colab": {
     "base_uri": "https://localhost:8080/",
     "height": 748
    },
    "colab_type": "code",
    "id": "dgMiRvz7XYK5",
    "outputId": "61d8eb95-6021-48b3-d57a-8cb8da1416ee"
   },
   "outputs": [
    {
     "name": "stdout",
     "output_type": "stream",
     "text": [
      "<class 'pandas.core.frame.DataFrame'>\n",
      "RangeIndex: 887379 entries, 0 to 887378\n",
      "Data columns (total 36 columns):\n",
      " #   Column                       Non-Null Count   Dtype  \n",
      "---  ------                       --------------   -----  \n",
      " 0   ï»¿member_id                 887379 non-null  int64  \n",
      " 1   loan_amnt                    887379 non-null  int64  \n",
      " 2   terms                        887379 non-null  object \n",
      " 3   batch_ID                     756631 non-null  object \n",
      " 4   Rate_of_intrst               887379 non-null  float64\n",
      " 5   grade                        887379 non-null  object \n",
      " 6   sub_grade                    887379 non-null  object \n",
      " 7   Emp_designation              835917 non-null  object \n",
      " 8   Experience                   842554 non-null  object \n",
      " 9   home_ownership               887379 non-null  object \n",
      " 10  annual_inc                   887375 non-null  float64\n",
      " 11  verification_status          887379 non-null  object \n",
      " 12  purpose                      887379 non-null  object \n",
      " 13  State                        887379 non-null  object \n",
      " 14  debt_income_ratio            887379 non-null  float64\n",
      " 15  delinq_2yrs                  887350 non-null  float64\n",
      " 16  inq_last_6mths               887350 non-null  float64\n",
      " 17  mths_since_last_delinq       433067 non-null  float64\n",
      " 18  mths_since_last_record       137053 non-null  float64\n",
      " 19  numb_credit                  887350 non-null  float64\n",
      " 20  pub_rec                      887350 non-null  float64\n",
      " 21  total revol_bal              887379 non-null  float64\n",
      " 22  total_credits                887350 non-null  float64\n",
      " 23  initial_list_status          887379 non-null  object \n",
      " 24  total_rec_int                887379 non-null  float64\n",
      " 25  total_rec_late_fee           887379 non-null  float64\n",
      " 26  recoveries                   887379 non-null  float64\n",
      " 27  collection_recovery_fee      887379 non-null  float64\n",
      " 28  collections_12_mths_ex_med   887234 non-null  float64\n",
      " 29  mths_since_last_major_derog  221703 non-null  float64\n",
      " 30  application_type             887379 non-null  object \n",
      " 31  verification_status_joint    511 non-null     object \n",
      " 32  last_week_pay                887379 non-null  object \n",
      " 33  acc_now_delinq               887350 non-null  float64\n",
      " 34  tot_colle_amt                817103 non-null  float64\n",
      " 35  tot_curr_bal                 817103 non-null  float64\n",
      "dtypes: float64(20), int64(2), object(14)\n",
      "memory usage: 243.7+ MB\n"
     ]
    }
   ],
   "source": [
    "data.info()"
   ]
  },
  {
   "cell_type": "markdown",
   "metadata": {},
   "source": [
    "### Drop unnecessary columns and reduce dimension"
   ]
  },
  {
   "cell_type": "code",
   "execution_count": 20,
   "metadata": {
    "colab": {},
    "colab_type": "code",
    "id": "0jcQyB0eYmkj"
   },
   "outputs": [],
   "source": [
    "# dropping the unnecessary columns\n",
    "data = data.drop(data.columns[[0,3]], axis=1)"
   ]
  },
  {
   "cell_type": "markdown",
   "metadata": {},
   "source": [
    "### Filtering out Numeric and Categoric variables\n",
    "  - Understand the relationship between specific variables.\n",
    "  - Percentage of Missing values within each variable."
   ]
  },
  {
   "cell_type": "code",
   "execution_count": 14,
   "metadata": {
    "colab": {
     "base_uri": "https://localhost:8080/",
     "height": 238
    },
    "colab_type": "code",
    "id": "uyTDN3nMaQHa",
    "outputId": "aee4de65-65ef-4b71-a738-3c6843b54337"
   },
   "outputs": [
    {
     "data": {
      "text/plain": [
       "['terms',\n",
       " 'batch_ID ',\n",
       " 'grade',\n",
       " 'sub_grade',\n",
       " 'Emp_designation',\n",
       " 'Experience',\n",
       " 'home_ownership',\n",
       " 'verification_status',\n",
       " 'purpose',\n",
       " 'State',\n",
       " 'initial_list_status',\n",
       " 'application_type',\n",
       " 'verification_status_joint',\n",
       " 'last_week_pay']"
      ]
     },
     "execution_count": 14,
     "metadata": {},
     "output_type": "execute_result"
    }
   ],
   "source": [
    "# display Categoric variables\n",
    "categorical = [col for col in data.columns if data[col].dtypes == 'O']\n",
    "\n",
    "categorical"
   ]
  },
  {
   "cell_type": "code",
   "execution_count": 21,
   "metadata": {
    "colab": {
     "base_uri": "https://localhost:8080/",
     "height": 374
    },
    "colab_type": "code",
    "id": "As6TdAmZbDNB",
    "outputId": "36377ce3-335f-4655-9379-bb23c6391d93"
   },
   "outputs": [],
   "source": [
    "# display numerical variables\n",
    "\n",
    "numerical = [col for col in data.columns if data[col].dtypes != 'O']\n",
    "\n",
    "numerical=data[numerical]"
   ]
  },
  {
   "cell_type": "code",
   "execution_count": 23,
   "metadata": {},
   "outputs": [
    {
     "name": "stdout",
     "output_type": "stream",
     "text": [
      "loan_amnt                      500.00\n",
      "Rate_of_intrst                   5.32\n",
      "annual_inc                       0.00\n",
      "debt_income_ratio                0.00\n",
      "delinq_2yrs                      0.00\n",
      "inq_last_6mths                   0.00\n",
      "mths_since_last_delinq           0.00\n",
      "mths_since_last_record           0.00\n",
      "numb_credit                      0.00\n",
      "pub_rec                          0.00\n",
      "total revol_bal                  0.00\n",
      "total_credits                    1.00\n",
      "total_rec_int                    0.00\n",
      "total_rec_late_fee               0.00\n",
      "recoveries                       0.00\n",
      "collection_recovery_fee          0.00\n",
      "collections_12_mths_ex_med       0.00\n",
      "mths_since_last_major_derog      0.00\n",
      "acc_now_delinq                   0.00\n",
      "tot_colle_amt                    0.00\n",
      "tot_curr_bal                     0.00\n",
      "dtype: float64\n"
     ]
    }
   ],
   "source": [
    "print(numerical.min()) "
   ]
  },
  {
   "cell_type": "code",
   "execution_count": 14,
   "metadata": {},
   "outputs": [
    {
     "data": {
      "text/html": [
       "<div>\n",
       "<style scoped>\n",
       "    .dataframe tbody tr th:only-of-type {\n",
       "        vertical-align: middle;\n",
       "    }\n",
       "\n",
       "    .dataframe tbody tr th {\n",
       "        vertical-align: top;\n",
       "    }\n",
       "\n",
       "    .dataframe thead th {\n",
       "        text-align: right;\n",
       "    }\n",
       "</style>\n",
       "<table border=\"1\" class=\"dataframe\">\n",
       "  <thead>\n",
       "    <tr style=\"text-align: right;\">\n",
       "      <th></th>\n",
       "      <th>Rate_of_intrst</th>\n",
       "      <th>annual_inc</th>\n",
       "      <th>debt_income_ratio</th>\n",
       "      <th>delinq_2yrs</th>\n",
       "      <th>inq_last_6mths</th>\n",
       "      <th>mths_since_last_delinq</th>\n",
       "      <th>mths_since_last_record</th>\n",
       "      <th>numb_credit</th>\n",
       "      <th>pub_rec</th>\n",
       "      <th>total revol_bal</th>\n",
       "      <th>total_credits</th>\n",
       "      <th>total_rec_int</th>\n",
       "      <th>total_rec_late_fee</th>\n",
       "      <th>recoveries</th>\n",
       "      <th>collection_recovery_fee</th>\n",
       "      <th>collections_12_mths_ex_med</th>\n",
       "      <th>mths_since_last_major_derog</th>\n",
       "      <th>acc_now_delinq</th>\n",
       "      <th>tot_colle_amt</th>\n",
       "      <th>tot_curr_bal</th>\n",
       "    </tr>\n",
       "  </thead>\n",
       "  <tbody>\n",
       "    <tr>\n",
       "      <th>count</th>\n",
       "      <td>887379.000000</td>\n",
       "      <td>8.873750e+05</td>\n",
       "      <td>887379.000000</td>\n",
       "      <td>887350.000000</td>\n",
       "      <td>887350.000000</td>\n",
       "      <td>433067.000000</td>\n",
       "      <td>137053.000000</td>\n",
       "      <td>887350.000000</td>\n",
       "      <td>887350.000000</td>\n",
       "      <td>8.873790e+05</td>\n",
       "      <td>887350.000000</td>\n",
       "      <td>887379.000000</td>\n",
       "      <td>887379.000000</td>\n",
       "      <td>887379.000000</td>\n",
       "      <td>887379.000000</td>\n",
       "      <td>887234.000000</td>\n",
       "      <td>221703.000000</td>\n",
       "      <td>887350.000000</td>\n",
       "      <td>8.171030e+05</td>\n",
       "      <td>8.171030e+05</td>\n",
       "    </tr>\n",
       "    <tr>\n",
       "      <th>mean</th>\n",
       "      <td>13.246740</td>\n",
       "      <td>7.502759e+04</td>\n",
       "      <td>18.157039</td>\n",
       "      <td>0.314442</td>\n",
       "      <td>0.694623</td>\n",
       "      <td>34.063798</td>\n",
       "      <td>70.117903</td>\n",
       "      <td>11.548469</td>\n",
       "      <td>0.195307</td>\n",
       "      <td>1.692079e+04</td>\n",
       "      <td>25.268026</td>\n",
       "      <td>1754.804327</td>\n",
       "      <td>0.396692</td>\n",
       "      <td>45.919243</td>\n",
       "      <td>4.880757</td>\n",
       "      <td>0.014380</td>\n",
       "      <td>44.104838</td>\n",
       "      <td>0.004991</td>\n",
       "      <td>2.257026e+02</td>\n",
       "      <td>1.394582e+05</td>\n",
       "    </tr>\n",
       "    <tr>\n",
       "      <th>std</th>\n",
       "      <td>4.381867</td>\n",
       "      <td>6.469830e+04</td>\n",
       "      <td>17.190626</td>\n",
       "      <td>0.862244</td>\n",
       "      <td>0.998448</td>\n",
       "      <td>21.884940</td>\n",
       "      <td>28.127914</td>\n",
       "      <td>5.317313</td>\n",
       "      <td>0.582091</td>\n",
       "      <td>2.242679e+04</td>\n",
       "      <td>11.840561</td>\n",
       "      <td>2095.356099</td>\n",
       "      <td>4.087825</td>\n",
       "      <td>409.693874</td>\n",
       "      <td>63.125281</td>\n",
       "      <td>0.134191</td>\n",
       "      <td>22.179841</td>\n",
       "      <td>0.077625</td>\n",
       "      <td>1.031137e+04</td>\n",
       "      <td>1.537500e+05</td>\n",
       "    </tr>\n",
       "    <tr>\n",
       "      <th>min</th>\n",
       "      <td>5.320000</td>\n",
       "      <td>0.000000e+00</td>\n",
       "      <td>0.000000</td>\n",
       "      <td>0.000000</td>\n",
       "      <td>0.000000</td>\n",
       "      <td>0.000000</td>\n",
       "      <td>0.000000</td>\n",
       "      <td>0.000000</td>\n",
       "      <td>0.000000</td>\n",
       "      <td>0.000000e+00</td>\n",
       "      <td>1.000000</td>\n",
       "      <td>0.000000</td>\n",
       "      <td>0.000000</td>\n",
       "      <td>0.000000</td>\n",
       "      <td>0.000000</td>\n",
       "      <td>0.000000</td>\n",
       "      <td>0.000000</td>\n",
       "      <td>0.000000</td>\n",
       "      <td>0.000000e+00</td>\n",
       "      <td>0.000000e+00</td>\n",
       "    </tr>\n",
       "    <tr>\n",
       "      <th>25%</th>\n",
       "      <td>9.990000</td>\n",
       "      <td>4.500000e+04</td>\n",
       "      <td>11.910000</td>\n",
       "      <td>0.000000</td>\n",
       "      <td>0.000000</td>\n",
       "      <td>15.000000</td>\n",
       "      <td>51.000000</td>\n",
       "      <td>8.000000</td>\n",
       "      <td>0.000000</td>\n",
       "      <td>6.443000e+03</td>\n",
       "      <td>17.000000</td>\n",
       "      <td>441.460000</td>\n",
       "      <td>0.000000</td>\n",
       "      <td>0.000000</td>\n",
       "      <td>0.000000</td>\n",
       "      <td>0.000000</td>\n",
       "      <td>27.000000</td>\n",
       "      <td>0.000000</td>\n",
       "      <td>0.000000e+00</td>\n",
       "      <td>2.985300e+04</td>\n",
       "    </tr>\n",
       "    <tr>\n",
       "      <th>50%</th>\n",
       "      <td>12.990000</td>\n",
       "      <td>6.500000e+04</td>\n",
       "      <td>17.650000</td>\n",
       "      <td>0.000000</td>\n",
       "      <td>0.000000</td>\n",
       "      <td>31.000000</td>\n",
       "      <td>70.000000</td>\n",
       "      <td>11.000000</td>\n",
       "      <td>0.000000</td>\n",
       "      <td>1.187500e+04</td>\n",
       "      <td>24.000000</td>\n",
       "      <td>1073.280000</td>\n",
       "      <td>0.000000</td>\n",
       "      <td>0.000000</td>\n",
       "      <td>0.000000</td>\n",
       "      <td>0.000000</td>\n",
       "      <td>44.000000</td>\n",
       "      <td>0.000000</td>\n",
       "      <td>0.000000e+00</td>\n",
       "      <td>8.055900e+04</td>\n",
       "    </tr>\n",
       "    <tr>\n",
       "      <th>75%</th>\n",
       "      <td>16.200000</td>\n",
       "      <td>9.000000e+04</td>\n",
       "      <td>23.950000</td>\n",
       "      <td>0.000000</td>\n",
       "      <td>1.000000</td>\n",
       "      <td>50.000000</td>\n",
       "      <td>92.000000</td>\n",
       "      <td>14.000000</td>\n",
       "      <td>0.000000</td>\n",
       "      <td>2.082900e+04</td>\n",
       "      <td>32.000000</td>\n",
       "      <td>2238.265000</td>\n",
       "      <td>0.000000</td>\n",
       "      <td>0.000000</td>\n",
       "      <td>0.000000</td>\n",
       "      <td>0.000000</td>\n",
       "      <td>61.000000</td>\n",
       "      <td>0.000000</td>\n",
       "      <td>0.000000e+00</td>\n",
       "      <td>2.082050e+05</td>\n",
       "    </tr>\n",
       "    <tr>\n",
       "      <th>max</th>\n",
       "      <td>28.990000</td>\n",
       "      <td>9.500000e+06</td>\n",
       "      <td>9999.000000</td>\n",
       "      <td>39.000000</td>\n",
       "      <td>33.000000</td>\n",
       "      <td>188.000000</td>\n",
       "      <td>129.000000</td>\n",
       "      <td>90.000000</td>\n",
       "      <td>86.000000</td>\n",
       "      <td>2.904836e+06</td>\n",
       "      <td>169.000000</td>\n",
       "      <td>24205.620000</td>\n",
       "      <td>358.680000</td>\n",
       "      <td>33520.270000</td>\n",
       "      <td>7002.190000</td>\n",
       "      <td>20.000000</td>\n",
       "      <td>188.000000</td>\n",
       "      <td>14.000000</td>\n",
       "      <td>9.152545e+06</td>\n",
       "      <td>8.000078e+06</td>\n",
       "    </tr>\n",
       "  </tbody>\n",
       "</table>\n",
       "</div>"
      ],
      "text/plain": [
       "       Rate_of_intrst    annual_inc  debt_income_ratio    delinq_2yrs  \\\n",
       "count   887379.000000  8.873750e+05      887379.000000  887350.000000   \n",
       "mean        13.246740  7.502759e+04          18.157039       0.314442   \n",
       "std          4.381867  6.469830e+04          17.190626       0.862244   \n",
       "min          5.320000  0.000000e+00           0.000000       0.000000   \n",
       "25%          9.990000  4.500000e+04          11.910000       0.000000   \n",
       "50%         12.990000  6.500000e+04          17.650000       0.000000   \n",
       "75%         16.200000  9.000000e+04          23.950000       0.000000   \n",
       "max         28.990000  9.500000e+06        9999.000000      39.000000   \n",
       "\n",
       "       inq_last_6mths  mths_since_last_delinq  mths_since_last_record  \\\n",
       "count   887350.000000           433067.000000           137053.000000   \n",
       "mean         0.694623               34.063798               70.117903   \n",
       "std          0.998448               21.884940               28.127914   \n",
       "min          0.000000                0.000000                0.000000   \n",
       "25%          0.000000               15.000000               51.000000   \n",
       "50%          0.000000               31.000000               70.000000   \n",
       "75%          1.000000               50.000000               92.000000   \n",
       "max         33.000000              188.000000              129.000000   \n",
       "\n",
       "         numb_credit        pub_rec  total revol_bal  total_credits  \\\n",
       "count  887350.000000  887350.000000     8.873790e+05  887350.000000   \n",
       "mean       11.548469       0.195307     1.692079e+04      25.268026   \n",
       "std         5.317313       0.582091     2.242679e+04      11.840561   \n",
       "min         0.000000       0.000000     0.000000e+00       1.000000   \n",
       "25%         8.000000       0.000000     6.443000e+03      17.000000   \n",
       "50%        11.000000       0.000000     1.187500e+04      24.000000   \n",
       "75%        14.000000       0.000000     2.082900e+04      32.000000   \n",
       "max        90.000000      86.000000     2.904836e+06     169.000000   \n",
       "\n",
       "       total_rec_int  total_rec_late_fee     recoveries  \\\n",
       "count  887379.000000       887379.000000  887379.000000   \n",
       "mean     1754.804327            0.396692      45.919243   \n",
       "std      2095.356099            4.087825     409.693874   \n",
       "min         0.000000            0.000000       0.000000   \n",
       "25%       441.460000            0.000000       0.000000   \n",
       "50%      1073.280000            0.000000       0.000000   \n",
       "75%      2238.265000            0.000000       0.000000   \n",
       "max     24205.620000          358.680000   33520.270000   \n",
       "\n",
       "       collection_recovery_fee  collections_12_mths_ex_med  \\\n",
       "count            887379.000000               887234.000000   \n",
       "mean                  4.880757                    0.014380   \n",
       "std                  63.125281                    0.134191   \n",
       "min                   0.000000                    0.000000   \n",
       "25%                   0.000000                    0.000000   \n",
       "50%                   0.000000                    0.000000   \n",
       "75%                   0.000000                    0.000000   \n",
       "max                7002.190000                   20.000000   \n",
       "\n",
       "       mths_since_last_major_derog  acc_now_delinq  tot_colle_amt  \\\n",
       "count                221703.000000   887350.000000   8.171030e+05   \n",
       "mean                     44.104838        0.004991   2.257026e+02   \n",
       "std                      22.179841        0.077625   1.031137e+04   \n",
       "min                       0.000000        0.000000   0.000000e+00   \n",
       "25%                      27.000000        0.000000   0.000000e+00   \n",
       "50%                      44.000000        0.000000   0.000000e+00   \n",
       "75%                      61.000000        0.000000   0.000000e+00   \n",
       "max                     188.000000       14.000000   9.152545e+06   \n",
       "\n",
       "       tot_curr_bal  \n",
       "count  8.171030e+05  \n",
       "mean   1.394582e+05  \n",
       "std    1.537500e+05  \n",
       "min    0.000000e+00  \n",
       "25%    2.985300e+04  \n",
       "50%    8.055900e+04  \n",
       "75%    2.082050e+05  \n",
       "max    8.000078e+06  "
      ]
     },
     "execution_count": 14,
     "metadata": {},
     "output_type": "execute_result"
    }
   ],
   "source": [
    "numerical.describe()"
   ]
  },
  {
   "cell_type": "code",
   "execution_count": 16,
   "metadata": {
    "colab": {
     "base_uri": "https://localhost:8080/",
     "height": 1000
    },
    "colab_type": "code",
    "id": "VKWz7ePrdnyX",
    "outputId": "1d3e8429-3c19-4c2a-9657-bbb9c3af3a47"
   },
   "outputs": [
    {
     "name": "stdout",
     "output_type": "stream",
     "text": [
      "36 months    621125\n",
      "60 months    266254\n",
      "Name: terms, dtype: int64\n",
      "              234087\n",
      "BAT2252229     18791\n",
      "BAT3873588     17839\n",
      "BAT2803411     17111\n",
      "BAT2078974     14859\n",
      "               ...  \n",
      "BAT2331079        13\n",
      "BAT6671483        10\n",
      "BAT3411179         9\n",
      "BAT3966851         8\n",
      "BAT6027836         7\n",
      "Name: batch_ID , Length: 207, dtype: int64\n",
      "B    254535\n",
      "C    245860\n",
      "A    148202\n",
      "D    139542\n",
      "E     70705\n",
      "F     23046\n",
      "G      5489\n",
      "Name: grade, dtype: int64\n",
      "B3    56323\n",
      "B4    55626\n",
      "C1    53387\n",
      "C2    52236\n",
      "C3    50161\n",
      "C4    48857\n",
      "B5    48833\n",
      "B2    48781\n",
      "B1    44972\n",
      "A5    44816\n",
      "C5    41219\n",
      "D1    36238\n",
      "A4    34531\n",
      "D2    29803\n",
      "D3    26554\n",
      "D4    25558\n",
      "A3    23457\n",
      "A1    22913\n",
      "A2    22485\n",
      "D5    21389\n",
      "E1    18268\n",
      "E2    17004\n",
      "E3    14134\n",
      "E4    11724\n",
      "E5     9575\n",
      "F1     7218\n",
      "F2     5392\n",
      "F3     4433\n",
      "F4     3409\n",
      "F5     2594\n",
      "G1     1871\n",
      "G2     1398\n",
      "G3      981\n",
      "G4      663\n",
      "G5      576\n",
      "Name: sub_grade, dtype: int64\n",
      "Teacher                                 13807\n",
      "Manager                                 11638\n",
      "Registered Nurse                         5691\n",
      "Owner                                    5512\n",
      "RN                                       5491\n",
      "                                        ...  \n",
      "maintenance tech 3                          1\n",
      "earle asphalt co.                           1\n",
      "Environmental Control Officer               1\n",
      "Senior Manager, Clinical Programming        1\n",
      "Commercial VP                               1\n",
      "Name: Emp_designation, Length: 289207, dtype: int64\n",
      "10+ years    291569\n",
      "2 years       78870\n",
      "< 1 year      70605\n",
      "3 years       70026\n",
      "1 year        57095\n",
      "5 years       55704\n",
      "4 years       52529\n",
      "7 years       44594\n",
      "8 years       43955\n",
      "6 years       42950\n",
      "9 years       34657\n",
      "Name: Experience, dtype: int64\n",
      "MORTGAGE    443557\n",
      "RENT        356117\n",
      "OWN          87470\n",
      "OTHER          182\n",
      "NONE            50\n",
      "ANY              3\n",
      "Name: home_ownership, dtype: int64\n",
      "Source Verified    329558\n",
      "Verified           291071\n",
      "Not Verified       266750\n",
      "Name: verification_status, dtype: int64\n",
      "debt_consolidation    524215\n",
      "credit_card           206182\n",
      "home_improvement       51829\n",
      "other                  42894\n",
      "major_purchase         17277\n",
      "small_business         10377\n",
      "car                     8863\n",
      "medical                 8540\n",
      "moving                  5414\n",
      "vacation                4736\n",
      "house                   3707\n",
      "wedding                 2347\n",
      "renewable_energy         575\n",
      "educational              423\n",
      "Name: purpose, dtype: int64\n",
      "CA    129517\n",
      "NY     74086\n",
      "TX     71138\n",
      "FL     60935\n",
      "IL     35476\n",
      "NJ     33256\n",
      "PA     31393\n",
      "OH     29631\n",
      "GA     29085\n",
      "VA     26255\n",
      "NC     24720\n",
      "MI     22985\n",
      "MD     21031\n",
      "MA     20593\n",
      "AZ     20412\n",
      "WA     19434\n",
      "CO     18807\n",
      "MN     15957\n",
      "MO     14207\n",
      "IN     13789\n",
      "CT     13531\n",
      "TN     12887\n",
      "NV     12443\n",
      "WI     11574\n",
      "AL     11200\n",
      "OR     10893\n",
      "SC     10639\n",
      "LA     10587\n",
      "KY      8550\n",
      "OK      8085\n",
      "KS      7926\n",
      "AR      6640\n",
      "UT      6264\n",
      "NM      4939\n",
      "HI      4570\n",
      "WV      4386\n",
      "NH      4294\n",
      "RI      3893\n",
      "MS      3819\n",
      "MT      2558\n",
      "DE      2511\n",
      "DC      2432\n",
      "AK      2205\n",
      "WY      2028\n",
      "SD      1815\n",
      "VT      1797\n",
      "NE      1176\n",
      "ME       525\n",
      "ND       479\n",
      "IA        14\n",
      "ID        12\n",
      "Name: State, dtype: int64\n",
      "f    456848\n",
      "w    430531\n",
      "Name: initial_list_status, dtype: int64\n",
      "INDIVIDUAL    886868\n",
      "JOINT            511\n",
      "Name: application_type, dtype: int64\n",
      "Not Verified       283\n",
      "Verified           167\n",
      "Source Verified     61\n",
      "Name: verification_status_joint, dtype: int64\n",
      "13th week     50321\n",
      "9th week      47680\n",
      "26th week     45989\n",
      "22th week     43342\n",
      "4th week      43105\n",
      "              ...  \n",
      "300th week        1\n",
      "278th week        1\n",
      "274th week        1\n",
      "269th week        1\n",
      "304th week        1\n",
      "Name: last_week_pay, Length: 98, dtype: int64\n"
     ]
    }
   ],
   "source": [
    "for i in categorical:\n",
    "  print(data[i].value_counts())"
   ]
  },
  {
   "cell_type": "code",
   "execution_count": 17,
   "metadata": {
    "colab": {
     "base_uri": "https://localhost:8080/",
     "height": 391
    },
    "colab_type": "code",
    "id": "kEgQPClpfy61",
    "outputId": "cc982132-bf95-4323-ef19-ca021b2d983a"
   },
   "outputs": [
    {
     "data": {
      "text/plain": [
       "mths_since_last_record         0.845553\n",
       "mths_since_last_major_derog    0.750160\n",
       "mths_since_last_delinq         0.511971\n",
       "tot_curr_bal                   0.079195\n",
       "tot_colle_amt                  0.079195\n",
       "collections_12_mths_ex_med     0.000163\n",
       "delinq_2yrs                    0.000033\n",
       "inq_last_6mths                 0.000033\n",
       "numb_credit                    0.000033\n",
       "pub_rec                        0.000033\n",
       "total_credits                  0.000033\n",
       "acc_now_delinq                 0.000033\n",
       "annual_inc                     0.000005\n",
       "total revol_bal                0.000000\n",
       "total_rec_int                  0.000000\n",
       "total_rec_late_fee             0.000000\n",
       "recoveries                     0.000000\n",
       "collection_recovery_fee        0.000000\n",
       "debt_income_ratio              0.000000\n",
       "Rate_of_intrst                 0.000000\n",
       "loan_amnt                      0.000000\n",
       "ï»¿member_id                   0.000000\n",
       "dtype: float64"
      ]
     },
     "execution_count": 17,
     "metadata": {},
     "output_type": "execute_result"
    }
   ],
   "source": [
    "# checking for missing values in numerical columns\n",
    "df=data[numerical].isna().mean()\n",
    "df.sort_values(ascending=False)"
   ]
  },
  {
   "cell_type": "markdown",
   "metadata": {
    "colab_type": "text",
    "id": "HV08DYDGqSs9"
   },
   "source": [
    "### A note on Missing values:\n",
    "    - The variable having missing values may be valued depending on the dataset and the problem definition. Consider an example, where the dataset contains a column for date of marriage. It may be blank for 50% (or even more) of the population, but might have very high information about the lifestyle of the person. In such cases, you would still use the variable.\n",
    "\n",
    "    - If the value of information in the variable is not that high, ideally we drop the variable if it has more than 50% missing values. There are projects / models where imputation of even 20 - 30% missing values provide better results - the famous Titanic dataset on Kaggle being one such case. Age is missing in ~20% of cases, but you benefit by imputing them rather than ignoring the variable."
   ]
  },
  {
   "cell_type": "code",
   "execution_count": 18,
   "metadata": {
    "colab": {
     "base_uri": "https://localhost:8080/",
     "height": 255
    },
    "colab_type": "code",
    "id": "di7KoCyNiHNp",
    "outputId": "49b0184f-3a59-4510-fd67-486f524abdb0"
   },
   "outputs": [
    {
     "data": {
      "text/plain": [
       "verification_status_joint    0.999424\n",
       "batch_ID                     0.147342\n",
       "Emp_designation              0.057993\n",
       "Experience                   0.050514\n",
       "last_week_pay                0.000000\n",
       "application_type             0.000000\n",
       "initial_list_status          0.000000\n",
       "State                        0.000000\n",
       "purpose                      0.000000\n",
       "verification_status          0.000000\n",
       "home_ownership               0.000000\n",
       "sub_grade                    0.000000\n",
       "grade                        0.000000\n",
       "terms                        0.000000\n",
       "dtype: float64"
      ]
     },
     "execution_count": 18,
     "metadata": {},
     "output_type": "execute_result"
    }
   ],
   "source": [
    "# checking for missing values in categorical columns\n",
    "dc=data[categorical].isna().mean()\n",
    "dc.sort_values(ascending=False)"
   ]
  },
  {
   "cell_type": "code",
   "execution_count": 19,
   "metadata": {},
   "outputs": [],
   "source": [
    "# Missing values to be imputed\n",
    "miss=['Emp_designation','Experience','mths_since_last_delinq']"
   ]
  },
  {
   "cell_type": "markdown",
   "metadata": {},
   "source": [
    "### Imputation Methods(used here)\n",
    " - Most Frequent values used mainly for Categoric features (strings or numerical representations) by replacing missing data with the most frequent values within each column. \n",
    " - Mean/Median Imputer by calculating mean/median of the non-missing values in a column and then replacing the missing values within each column separately and independently from the others. It can only be used with numeric data.   "
   ]
  },
  {
   "cell_type": "code",
   "execution_count": 20,
   "metadata": {},
   "outputs": [],
   "source": [
    "from feature_engine import missing_data_imputers as mdi"
   ]
  },
  {
   "cell_type": "code",
   "execution_count": 21,
   "metadata": {},
   "outputs": [],
   "source": [
    "for col in miss:\n",
    "    if data[col].dtypes =='O':\n",
    "        imputer_s = mdi.CategoricalVariableImputer(imputation_method='frequent',variables=[col])\n",
    "        data[col]=imputer_s.fit_transform(data[[col]])\n",
    "    else:\n",
    "        imputer_n=mdi.MeanMedianImputer(imputation_method='mean',variables=[col])\n",
    "        data[col]=imputer_n.fit_transform(data[[col]])\n",
    "\n",
    "        \n"
   ]
  },
  {
   "cell_type": "code",
   "execution_count": 22,
   "metadata": {
    "scrolled": true
   },
   "outputs": [
    {
     "data": {
      "text/plain": [
       "ï»¿member_id                   0.000000\n",
       "loan_amnt                      0.000000\n",
       "terms                          0.000000\n",
       "batch_ID                       0.147342\n",
       "Rate_of_intrst                 0.000000\n",
       "grade                          0.000000\n",
       "sub_grade                      0.000000\n",
       "Emp_designation                0.000000\n",
       "Experience                     0.000000\n",
       "home_ownership                 0.000000\n",
       "annual_inc                     0.000005\n",
       "verification_status            0.000000\n",
       "purpose                        0.000000\n",
       "State                          0.000000\n",
       "debt_income_ratio              0.000000\n",
       "delinq_2yrs                    0.000033\n",
       "inq_last_6mths                 0.000033\n",
       "mths_since_last_delinq         0.000000\n",
       "mths_since_last_record         0.845553\n",
       "numb_credit                    0.000033\n",
       "pub_rec                        0.000033\n",
       "total revol_bal                0.000000\n",
       "total_credits                  0.000033\n",
       "initial_list_status            0.000000\n",
       "total_rec_int                  0.000000\n",
       "total_rec_late_fee             0.000000\n",
       "recoveries                     0.000000\n",
       "collection_recovery_fee        0.000000\n",
       "collections_12_mths_ex_med     0.000163\n",
       "mths_since_last_major_derog    0.750160\n",
       "application_type               0.000000\n",
       "verification_status_joint      0.999424\n",
       "last_week_pay                  0.000000\n",
       "acc_now_delinq                 0.000033\n",
       "tot_colle_amt                  0.079195\n",
       "tot_curr_bal                   0.079195\n",
       "dtype: float64"
      ]
     },
     "execution_count": 22,
     "metadata": {},
     "output_type": "execute_result"
    }
   ],
   "source": [
    "data.isna().mean()"
   ]
  },
  {
   "cell_type": "markdown",
   "metadata": {},
   "source": [
    "### Visualizing Data using matplotlib and scipy libraries"
   ]
  },
  {
   "cell_type": "code",
   "execution_count": 23,
   "metadata": {
    "colab": {},
    "colab_type": "code",
    "id": "Z7fvPyrNuW_G"
   },
   "outputs": [],
   "source": [
    "import matplotlib.pyplot as plt\n",
    "import scipy.stats as stats"
   ]
  },
  {
   "cell_type": "code",
   "execution_count": 24,
   "metadata": {
    "colab": {},
    "colab_type": "code",
    "id": "owy7CH-LtGaL"
   },
   "outputs": [],
   "source": [
    "# plot the histograms to have a quick look at the variable distribution\n",
    "# histogram and Q-Q plots\n",
    "\n",
    "def diagnostic_plots(df, variable):\n",
    "    \n",
    "    # function to plot a histogram and a Q-Q plot\n",
    "    # side by side, for a certain variable\n",
    "    \n",
    "    plt.figure(figsize=(15,6))\n",
    "    plt.subplot(1, 2, 1)\n",
    "    df[variable].hist()\n",
    "\n",
    "    plt.subplot(1, 2, 2)\n",
    "    stats.probplot(df[variable], dist=\"norm\", plot=plt)\n",
    "\n",
    "    plt.show()"
   ]
  },
  {
   "cell_type": "code",
   "execution_count": 25,
   "metadata": {
    "colab": {
     "base_uri": "https://localhost:8080/",
     "height": 1000
    },
    "colab_type": "code",
    "id": "wFZdAMS4uGI4",
    "outputId": "147ab3b6-6ed5-4e7f-e991-febda116142d"
   },
   "outputs": [
    {
     "data": {
      "image/png": "[encoded data removed]",
      "text/plain": [
       "<Figure size 1080x432 with 2 Axes>"
      ]
     },
     "metadata": {
      "needs_background": "light"
     },
     "output_type": "display_data"
    },
    {
     "data": {
      "image/png": "[encoded data removed]",
      "text/plain": [
       "<Figure size 1080x432 with 2 Axes>"
      ]
     },
     "metadata": {
      "needs_background": "light"
     },
     "output_type": "display_data"
    },
    {
     "data": {
      "image/png": "[encoded data removed]",
      "text/plain": [
       "<Figure size 1080x432 with 2 Axes>"
      ]
     },
     "metadata": {
      "needs_background": "light"
     },
     "output_type": "display_data"
    },
    {
     "name": "stderr",
     "output_type": "stream",
     "text": [
      "C:\\Users\\harsh\\anaconda3\\lib\\site-packages\\scipy\\stats\\_distn_infrastructure.py:1932: RuntimeWarning: invalid value encountered in less_equal\n",
      "  cond2 = cond0 & (x <= _a)\n"
     ]
    },
    {
     "data": {
      "image/png": "[encoded data removed]",
      "text/plain": [
       "<Figure size 1080x432 with 2 Axes>"
      ]
     },
     "metadata": {
      "needs_background": "light"
     },
     "output_type": "display_data"
    },
    {
     "data": {
      "image/png": "[encoded data removed]",
      "text/plain": [
       "<Figure size 1080x432 with 2 Axes>"
      ]
     },
     "metadata": {
      "needs_background": "light"
     },
     "output_type": "display_data"
    },
    {
     "name": "stderr",
     "output_type": "stream",
     "text": [
      "C:\\Users\\harsh\\anaconda3\\lib\\site-packages\\scipy\\stats\\_distn_infrastructure.py:1932: RuntimeWarning: invalid value encountered in less_equal\n",
      "  cond2 = cond0 & (x <= _a)\n"
     ]
    },
    {
     "data": {
      "image/png": "[encoded data removed]",
      "text/plain": [
       "<Figure size 1080x432 with 2 Axes>"
      ]
     },
     "metadata": {
      "needs_background": "light"
     },
     "output_type": "display_data"
    },
    {
     "name": "stderr",
     "output_type": "stream",
     "text": [
      "C:\\Users\\harsh\\anaconda3\\lib\\site-packages\\scipy\\stats\\_distn_infrastructure.py:1932: RuntimeWarning: invalid value encountered in less_equal\n",
      "  cond2 = cond0 & (x <= _a)\n"
     ]
    },
    {
     "data": {
      "image/png": "[encoded data removed]",
      "text/plain": [
       "<Figure size 1080x432 with 2 Axes>"
      ]
     },
     "metadata": {
      "needs_background": "light"
     },
     "output_type": "display_data"
    },
    {
     "data": {
      "image/png": "[encoded data removed]",
      "text/plain": [
       "<Figure size 1080x432 with 2 Axes>"
      ]
     },
     "metadata": {
      "needs_background": "light"
     },
     "output_type": "display_data"
    },
    {
     "name": "stderr",
     "output_type": "stream",
     "text": [
      "C:\\Users\\harsh\\anaconda3\\lib\\site-packages\\scipy\\stats\\_distn_infrastructure.py:1932: RuntimeWarning: invalid value encountered in less_equal\n",
      "  cond2 = cond0 & (x <= _a)\n"
     ]
    },
    {
     "data": {
      "image/png": "[encoded data removed]",
      "text/plain": [
       "<Figure size 1080x432 with 2 Axes>"
      ]
     },
     "metadata": {
      "needs_background": "light"
     },
     "output_type": "display_data"
    },
    {
     "name": "stderr",
     "output_type": "stream",
     "text": [
      "C:\\Users\\harsh\\anaconda3\\lib\\site-packages\\scipy\\stats\\_distn_infrastructure.py:1932: RuntimeWarning: invalid value encountered in less_equal\n",
      "  cond2 = cond0 & (x <= _a)\n"
     ]
    },
    {
     "data": {
      "image/png": "[encoded data removed]",
      "text/plain": [
       "<Figure size 1080x432 with 2 Axes>"
      ]
     },
     "metadata": {
      "needs_background": "light"
     },
     "output_type": "display_data"
    },
    {
     "name": "stderr",
     "output_type": "stream",
     "text": [
      "C:\\Users\\harsh\\anaconda3\\lib\\site-packages\\scipy\\stats\\_distn_infrastructure.py:1932: RuntimeWarning: invalid value encountered in less_equal\n",
      "  cond2 = cond0 & (x <= _a)\n"
     ]
    },
    {
     "data": {
      "image/png": "[encoded data removed]",
      "text/plain": [
       "<Figure size 1080x432 with 2 Axes>"
      ]
     },
     "metadata": {
      "needs_background": "light"
     },
     "output_type": "display_data"
    },
    {
     "data": {
      "image/png": "[encoded data removed]",
      "text/plain": [
       "<Figure size 1080x432 with 2 Axes>"
      ]
     },
     "metadata": {
      "needs_background": "light"
     },
     "output_type": "display_data"
    },
    {
     "name": "stderr",
     "output_type": "stream",
     "text": [
      "C:\\Users\\harsh\\anaconda3\\lib\\site-packages\\scipy\\stats\\_distn_infrastructure.py:1932: RuntimeWarning: invalid value encountered in less_equal\n",
      "  cond2 = cond0 & (x <= _a)\n"
     ]
    },
    {
     "data": {
      "image/png": "[encoded data removed]",
      "text/plain": [
       "<Figure size 1080x432 with 2 Axes>"
      ]
     },
     "metadata": {
      "needs_background": "light"
     },
     "output_type": "display_data"
    },
    {
     "data": {
      "image/png": "[encoded data removed]",
      "text/plain": [
       "<Figure size 1080x432 with 2 Axes>"
      ]
     },
     "metadata": {
      "needs_background": "light"
     },
     "output_type": "display_data"
    },
    {
     "data": {
      "image/png": "[encoded data removed]",
      "text/plain": [
       "<Figure size 1080x432 with 2 Axes>"
      ]
     },
     "metadata": {
      "needs_background": "light"
     },
     "output_type": "display_data"
    },
    {
     "data": {
      "image/png": "[encoded data removed]",
      "text/plain": [
       "<Figure size 1080x432 with 2 Axes>"
      ]
     },
     "metadata": {
      "needs_background": "light"
     },
     "output_type": "display_data"
    },
    {
     "data": {
      "image/png": "[encoded data removed]",
      "text/plain": [
       "<Figure size 1080x432 with 2 Axes>"
      ]
     },
     "metadata": {
      "needs_background": "light"
     },
     "output_type": "display_data"
    },
    {
     "name": "stderr",
     "output_type": "stream",
     "text": [
      "C:\\Users\\harsh\\anaconda3\\lib\\site-packages\\scipy\\stats\\_distn_infrastructure.py:1932: RuntimeWarning: invalid value encountered in less_equal\n",
      "  cond2 = cond0 & (x <= _a)\n"
     ]
    },
    {
     "data": {
      "image/png": "[encoded data removed]",
      "text/plain": [
       "<Figure size 1080x432 with 2 Axes>"
      ]
     },
     "metadata": {
      "needs_background": "light"
     },
     "output_type": "display_data"
    },
    {
     "name": "stderr",
     "output_type": "stream",
     "text": [
      "C:\\Users\\harsh\\anaconda3\\lib\\site-packages\\scipy\\stats\\_distn_infrastructure.py:1932: RuntimeWarning: invalid value encountered in less_equal\n",
      "  cond2 = cond0 & (x <= _a)\n"
     ]
    },
    {
     "data": {
      "image/png": "[encoded data removed]",
      "text/plain": [
       "<Figure size 1080x432 with 2 Axes>"
      ]
     },
     "metadata": {
      "needs_background": "light"
     },
     "output_type": "display_data"
    },
    {
     "name": "stderr",
     "output_type": "stream",
     "text": [
      "C:\\Users\\harsh\\anaconda3\\lib\\site-packages\\scipy\\stats\\_distn_infrastructure.py:1932: RuntimeWarning: invalid value encountered in less_equal\n",
      "  cond2 = cond0 & (x <= _a)\n"
     ]
    },
    {
     "data": {
      "image/png": "[encoded data removed]",
      "text/plain": [
       "<Figure size 1080x432 with 2 Axes>"
      ]
     },
     "metadata": {
      "needs_background": "light"
     },
     "output_type": "display_data"
    },
    {
     "name": "stderr",
     "output_type": "stream",
     "text": [
      "C:\\Users\\harsh\\anaconda3\\lib\\site-packages\\scipy\\stats\\_distn_infrastructure.py:1932: RuntimeWarning: invalid value encountered in less_equal\n",
      "  cond2 = cond0 & (x <= _a)\n"
     ]
    },
    {
     "data": {
      "image/png": "[encoded data removed]",
      "text/plain": [
       "<Figure size 1080x432 with 2 Axes>"
      ]
     },
     "metadata": {
      "needs_background": "light"
     },
     "output_type": "display_data"
    },
    {
     "name": "stderr",
     "output_type": "stream",
     "text": [
      "C:\\Users\\harsh\\anaconda3\\lib\\site-packages\\scipy\\stats\\_distn_infrastructure.py:1932: RuntimeWarning: invalid value encountered in less_equal\n",
      "  cond2 = cond0 & (x <= _a)\n"
     ]
    },
    {
     "data": {
      "image/png": "[encoded data removed]",
      "text/plain": [
       "<Figure size 1080x432 with 2 Axes>"
      ]
     },
     "metadata": {
      "needs_background": "light"
     },
     "output_type": "display_data"
    }
   ],
   "source": [
    "#here i m checking for the normality of numerical values before encoding i applied , non of the numerical variable is normaly distributed \n",
    "for i in numerical:\n",
    "    diagnostic_plots(data, i)"
   ]
  },
  {
   "cell_type": "markdown",
   "metadata": {
    "colab_type": "text",
    "id": "-01LsUmRtuwA"
   },
   "source": [
    "### Data Analysis by applying different Imputations and Encoding formats"
   ]
  },
  {
   "cell_type": "code",
   "execution_count": 26,
   "metadata": {
    "colab": {
     "base_uri": "https://localhost:8080/",
     "height": 660
    },
    "colab_type": "code",
    "id": "ifAy7id__iQ0",
    "outputId": "aef7c893-1268-42b2-9a52-1366b94b3377"
   },
   "outputs": [
    {
     "data": {
      "text/html": [
       "<div>\n",
       "<style scoped>\n",
       "    .dataframe tbody tr th:only-of-type {\n",
       "        vertical-align: middle;\n",
       "    }\n",
       "\n",
       "    .dataframe tbody tr th {\n",
       "        vertical-align: top;\n",
       "    }\n",
       "\n",
       "    .dataframe thead th {\n",
       "        text-align: right;\n",
       "    }\n",
       "</style>\n",
       "<table border=\"1\" class=\"dataframe\">\n",
       "  <thead>\n",
       "    <tr style=\"text-align: right;\">\n",
       "      <th></th>\n",
       "      <th>ï»¿member_id</th>\n",
       "      <th>loan_amnt</th>\n",
       "      <th>terms</th>\n",
       "      <th>batch_ID</th>\n",
       "      <th>Rate_of_intrst</th>\n",
       "      <th>grade</th>\n",
       "      <th>sub_grade</th>\n",
       "      <th>Emp_designation</th>\n",
       "      <th>Experience</th>\n",
       "      <th>home_ownership</th>\n",
       "      <th>...</th>\n",
       "      <th>recoveries</th>\n",
       "      <th>collection_recovery_fee</th>\n",
       "      <th>collections_12_mths_ex_med</th>\n",
       "      <th>mths_since_last_major_derog</th>\n",
       "      <th>application_type</th>\n",
       "      <th>verification_status_joint</th>\n",
       "      <th>last_week_pay</th>\n",
       "      <th>acc_now_delinq</th>\n",
       "      <th>tot_colle_amt</th>\n",
       "      <th>tot_curr_bal</th>\n",
       "    </tr>\n",
       "  </thead>\n",
       "  <tbody>\n",
       "    <tr>\n",
       "      <th>0</th>\n",
       "      <td>58189336</td>\n",
       "      <td>14350</td>\n",
       "      <td>36 months</td>\n",
       "      <td></td>\n",
       "      <td>19.19</td>\n",
       "      <td>E</td>\n",
       "      <td>E3</td>\n",
       "      <td>clerk</td>\n",
       "      <td>9 years</td>\n",
       "      <td>OWN</td>\n",
       "      <td>...</td>\n",
       "      <td>0.0</td>\n",
       "      <td>0.0</td>\n",
       "      <td>0.0</td>\n",
       "      <td>74.0</td>\n",
       "      <td>INDIVIDUAL</td>\n",
       "      <td>NaN</td>\n",
       "      <td>26th week</td>\n",
       "      <td>0.0</td>\n",
       "      <td>0.0</td>\n",
       "      <td>28699.0</td>\n",
       "    </tr>\n",
       "    <tr>\n",
       "      <th>1</th>\n",
       "      <td>70011223</td>\n",
       "      <td>4800</td>\n",
       "      <td>36 months</td>\n",
       "      <td>BAT1586599</td>\n",
       "      <td>10.99</td>\n",
       "      <td>B</td>\n",
       "      <td>B4</td>\n",
       "      <td>Human Resources Specialist</td>\n",
       "      <td>&lt; 1 year</td>\n",
       "      <td>MORTGAGE</td>\n",
       "      <td>...</td>\n",
       "      <td>0.0</td>\n",
       "      <td>0.0</td>\n",
       "      <td>0.0</td>\n",
       "      <td>NaN</td>\n",
       "      <td>INDIVIDUAL</td>\n",
       "      <td>NaN</td>\n",
       "      <td>9th week</td>\n",
       "      <td>0.0</td>\n",
       "      <td>0.0</td>\n",
       "      <td>9974.0</td>\n",
       "    </tr>\n",
       "    <tr>\n",
       "      <th>2</th>\n",
       "      <td>70255675</td>\n",
       "      <td>10000</td>\n",
       "      <td>36 months</td>\n",
       "      <td>BAT1586599</td>\n",
       "      <td>7.26</td>\n",
       "      <td>A</td>\n",
       "      <td>A4</td>\n",
       "      <td>Driver</td>\n",
       "      <td>2 years</td>\n",
       "      <td>OWN</td>\n",
       "      <td>...</td>\n",
       "      <td>0.0</td>\n",
       "      <td>0.0</td>\n",
       "      <td>0.0</td>\n",
       "      <td>NaN</td>\n",
       "      <td>INDIVIDUAL</td>\n",
       "      <td>NaN</td>\n",
       "      <td>9th week</td>\n",
       "      <td>0.0</td>\n",
       "      <td>65.0</td>\n",
       "      <td>38295.0</td>\n",
       "    </tr>\n",
       "    <tr>\n",
       "      <th>3</th>\n",
       "      <td>1893936</td>\n",
       "      <td>15000</td>\n",
       "      <td>36 months</td>\n",
       "      <td>BAT4808022</td>\n",
       "      <td>19.72</td>\n",
       "      <td>D</td>\n",
       "      <td>D5</td>\n",
       "      <td>Us office of Personnel Management</td>\n",
       "      <td>10+ years</td>\n",
       "      <td>RENT</td>\n",
       "      <td>...</td>\n",
       "      <td>0.0</td>\n",
       "      <td>0.0</td>\n",
       "      <td>0.0</td>\n",
       "      <td>NaN</td>\n",
       "      <td>INDIVIDUAL</td>\n",
       "      <td>NaN</td>\n",
       "      <td>135th week</td>\n",
       "      <td>0.0</td>\n",
       "      <td>0.0</td>\n",
       "      <td>55564.0</td>\n",
       "    </tr>\n",
       "    <tr>\n",
       "      <th>4</th>\n",
       "      <td>7652106</td>\n",
       "      <td>16000</td>\n",
       "      <td>36 months</td>\n",
       "      <td>BAT2833642</td>\n",
       "      <td>10.64</td>\n",
       "      <td>B</td>\n",
       "      <td>B2</td>\n",
       "      <td>LAUSD-HOLLYWOOD HIGH SCHOOL</td>\n",
       "      <td>10+ years</td>\n",
       "      <td>RENT</td>\n",
       "      <td>...</td>\n",
       "      <td>0.0</td>\n",
       "      <td>0.0</td>\n",
       "      <td>0.0</td>\n",
       "      <td>NaN</td>\n",
       "      <td>INDIVIDUAL</td>\n",
       "      <td>NaN</td>\n",
       "      <td>96th week</td>\n",
       "      <td>0.0</td>\n",
       "      <td>0.0</td>\n",
       "      <td>47159.0</td>\n",
       "    </tr>\n",
       "    <tr>\n",
       "      <th>...</th>\n",
       "      <td>...</td>\n",
       "      <td>...</td>\n",
       "      <td>...</td>\n",
       "      <td>...</td>\n",
       "      <td>...</td>\n",
       "      <td>...</td>\n",
       "      <td>...</td>\n",
       "      <td>...</td>\n",
       "      <td>...</td>\n",
       "      <td>...</td>\n",
       "      <td>...</td>\n",
       "      <td>...</td>\n",
       "      <td>...</td>\n",
       "      <td>...</td>\n",
       "      <td>...</td>\n",
       "      <td>...</td>\n",
       "      <td>...</td>\n",
       "      <td>...</td>\n",
       "      <td>...</td>\n",
       "      <td>...</td>\n",
       "      <td>...</td>\n",
       "    </tr>\n",
       "    <tr>\n",
       "      <th>887374</th>\n",
       "      <td>19145105</td>\n",
       "      <td>15000</td>\n",
       "      <td>36 months</td>\n",
       "      <td>BAT4217242</td>\n",
       "      <td>6.49</td>\n",
       "      <td>A</td>\n",
       "      <td>A2</td>\n",
       "      <td>Network administrator</td>\n",
       "      <td>1 year</td>\n",
       "      <td>MORTGAGE</td>\n",
       "      <td>...</td>\n",
       "      <td>0.0</td>\n",
       "      <td>0.0</td>\n",
       "      <td>0.0</td>\n",
       "      <td>77.0</td>\n",
       "      <td>INDIVIDUAL</td>\n",
       "      <td>NaN</td>\n",
       "      <td>83th week</td>\n",
       "      <td>0.0</td>\n",
       "      <td>0.0</td>\n",
       "      <td>143920.0</td>\n",
       "    </tr>\n",
       "    <tr>\n",
       "      <th>887375</th>\n",
       "      <td>46304777</td>\n",
       "      <td>35000</td>\n",
       "      <td>60 months</td>\n",
       "      <td></td>\n",
       "      <td>25.89</td>\n",
       "      <td>G</td>\n",
       "      <td>G3</td>\n",
       "      <td>Credit Risk Analyst</td>\n",
       "      <td>1 year</td>\n",
       "      <td>OWN</td>\n",
       "      <td>...</td>\n",
       "      <td>0.0</td>\n",
       "      <td>0.0</td>\n",
       "      <td>0.0</td>\n",
       "      <td>NaN</td>\n",
       "      <td>INDIVIDUAL</td>\n",
       "      <td>NaN</td>\n",
       "      <td>39th week</td>\n",
       "      <td>0.0</td>\n",
       "      <td>0.0</td>\n",
       "      <td>772713.0</td>\n",
       "    </tr>\n",
       "    <tr>\n",
       "      <th>887376</th>\n",
       "      <td>903745</td>\n",
       "      <td>14000</td>\n",
       "      <td>60 months</td>\n",
       "      <td>BAT6117184</td>\n",
       "      <td>17.51</td>\n",
       "      <td>E</td>\n",
       "      <td>E4</td>\n",
       "      <td>USPS/Nashua L&amp;DC</td>\n",
       "      <td>10+ years</td>\n",
       "      <td>OWN</td>\n",
       "      <td>...</td>\n",
       "      <td>0.0</td>\n",
       "      <td>0.0</td>\n",
       "      <td>0.0</td>\n",
       "      <td>NaN</td>\n",
       "      <td>INDIVIDUAL</td>\n",
       "      <td>NaN</td>\n",
       "      <td>87th week</td>\n",
       "      <td>0.0</td>\n",
       "      <td>NaN</td>\n",
       "      <td>NaN</td>\n",
       "    </tr>\n",
       "    <tr>\n",
       "      <th>887377</th>\n",
       "      <td>53032475</td>\n",
       "      <td>20000</td>\n",
       "      <td>36 months</td>\n",
       "      <td>BAT3840785</td>\n",
       "      <td>7.26</td>\n",
       "      <td>A</td>\n",
       "      <td>A4</td>\n",
       "      <td>Computer Engineer</td>\n",
       "      <td>&lt; 1 year</td>\n",
       "      <td>MORTGAGE</td>\n",
       "      <td>...</td>\n",
       "      <td>0.0</td>\n",
       "      <td>0.0</td>\n",
       "      <td>0.0</td>\n",
       "      <td>NaN</td>\n",
       "      <td>INDIVIDUAL</td>\n",
       "      <td>NaN</td>\n",
       "      <td>35th week</td>\n",
       "      <td>0.0</td>\n",
       "      <td>0.0</td>\n",
       "      <td>291998.0</td>\n",
       "    </tr>\n",
       "    <tr>\n",
       "      <th>887378</th>\n",
       "      <td>994245</td>\n",
       "      <td>2700</td>\n",
       "      <td>60 months</td>\n",
       "      <td>NaN</td>\n",
       "      <td>7.49</td>\n",
       "      <td>A</td>\n",
       "      <td>A4</td>\n",
       "      <td>Jimmy John's Sandwiches</td>\n",
       "      <td>2 years</td>\n",
       "      <td>OWN</td>\n",
       "      <td>...</td>\n",
       "      <td>0.0</td>\n",
       "      <td>0.0</td>\n",
       "      <td>0.0</td>\n",
       "      <td>NaN</td>\n",
       "      <td>INDIVIDUAL</td>\n",
       "      <td>NaN</td>\n",
       "      <td>104th week</td>\n",
       "      <td>0.0</td>\n",
       "      <td>NaN</td>\n",
       "      <td>NaN</td>\n",
       "    </tr>\n",
       "  </tbody>\n",
       "</table>\n",
       "<p>887379 rows × 36 columns</p>\n",
       "</div>"
      ],
      "text/plain": [
       "        ï»¿member_id   loan_amnt       terms   batch_ID   Rate_of_intrst  \\\n",
       "0            58189336       14350  36 months                       19.19   \n",
       "1            70011223        4800  36 months  BAT1586599           10.99   \n",
       "2            70255675       10000  36 months  BAT1586599            7.26   \n",
       "3             1893936       15000  36 months  BAT4808022           19.72   \n",
       "4             7652106       16000  36 months  BAT2833642           10.64   \n",
       "...               ...         ...        ...         ...             ...   \n",
       "887374       19145105       15000  36 months  BAT4217242            6.49   \n",
       "887375       46304777       35000  60 months                       25.89   \n",
       "887376         903745       14000  60 months  BAT6117184           17.51   \n",
       "887377       53032475       20000  36 months  BAT3840785            7.26   \n",
       "887378         994245        2700  60 months         NaN            7.49   \n",
       "\n",
       "       grade sub_grade                    Emp_designation Experience  \\\n",
       "0          E        E3                              clerk    9 years   \n",
       "1          B        B4         Human Resources Specialist   < 1 year   \n",
       "2          A        A4                             Driver    2 years   \n",
       "3          D        D5  Us office of Personnel Management  10+ years   \n",
       "4          B        B2        LAUSD-HOLLYWOOD HIGH SCHOOL  10+ years   \n",
       "...      ...       ...                                ...        ...   \n",
       "887374     A        A2              Network administrator     1 year   \n",
       "887375     G        G3                Credit Risk Analyst     1 year   \n",
       "887376     E        E4                   USPS/Nashua L&DC  10+ years   \n",
       "887377     A        A4                  Computer Engineer   < 1 year   \n",
       "887378     A        A4            Jimmy John's Sandwiches    2 years   \n",
       "\n",
       "       home_ownership  ...  recoveries collection_recovery_fee  \\\n",
       "0                 OWN  ...         0.0                     0.0   \n",
       "1            MORTGAGE  ...         0.0                     0.0   \n",
       "2                 OWN  ...         0.0                     0.0   \n",
       "3                RENT  ...         0.0                     0.0   \n",
       "4                RENT  ...         0.0                     0.0   \n",
       "...               ...  ...         ...                     ...   \n",
       "887374       MORTGAGE  ...         0.0                     0.0   \n",
       "887375            OWN  ...         0.0                     0.0   \n",
       "887376            OWN  ...         0.0                     0.0   \n",
       "887377       MORTGAGE  ...         0.0                     0.0   \n",
       "887378            OWN  ...         0.0                     0.0   \n",
       "\n",
       "       collections_12_mths_ex_med mths_since_last_major_derog  \\\n",
       "0                             0.0                        74.0   \n",
       "1                             0.0                         NaN   \n",
       "2                             0.0                         NaN   \n",
       "3                             0.0                         NaN   \n",
       "4                             0.0                         NaN   \n",
       "...                           ...                         ...   \n",
       "887374                        0.0                        77.0   \n",
       "887375                        0.0                         NaN   \n",
       "887376                        0.0                         NaN   \n",
       "887377                        0.0                         NaN   \n",
       "887378                        0.0                         NaN   \n",
       "\n",
       "        application_type  verification_status_joint  last_week_pay  \\\n",
       "0             INDIVIDUAL                        NaN      26th week   \n",
       "1             INDIVIDUAL                        NaN       9th week   \n",
       "2             INDIVIDUAL                        NaN       9th week   \n",
       "3             INDIVIDUAL                        NaN     135th week   \n",
       "4             INDIVIDUAL                        NaN      96th week   \n",
       "...                  ...                        ...            ...   \n",
       "887374        INDIVIDUAL                        NaN      83th week   \n",
       "887375        INDIVIDUAL                        NaN      39th week   \n",
       "887376        INDIVIDUAL                        NaN      87th week   \n",
       "887377        INDIVIDUAL                        NaN      35th week   \n",
       "887378        INDIVIDUAL                        NaN     104th week   \n",
       "\n",
       "        acc_now_delinq  tot_colle_amt  tot_curr_bal  \n",
       "0                  0.0            0.0       28699.0  \n",
       "1                  0.0            0.0        9974.0  \n",
       "2                  0.0           65.0       38295.0  \n",
       "3                  0.0            0.0       55564.0  \n",
       "4                  0.0            0.0       47159.0  \n",
       "...                ...            ...           ...  \n",
       "887374             0.0            0.0      143920.0  \n",
       "887375             0.0            0.0      772713.0  \n",
       "887376             0.0            NaN           NaN  \n",
       "887377             0.0            0.0      291998.0  \n",
       "887378             0.0            NaN           NaN  \n",
       "\n",
       "[887379 rows x 36 columns]"
      ]
     },
     "execution_count": 26,
     "metadata": {},
     "output_type": "execute_result"
    }
   ],
   "source": [
    "data1 = data.copy()\n",
    "data1"
   ]
  },
  {
   "cell_type": "code",
   "execution_count": 27,
   "metadata": {
    "colab": {},
    "colab_type": "code",
    "id": "cmZStkk0_i8d"
   },
   "outputs": [],
   "source": [
    "# droping column 'verification_status_joint' since it is containing more than 75% of missing values\n",
    "data1.drop(columns=['verification_status_joint','mths_since_last_major_derog','mths_since_last_record'],inplace=True,axis=1)"
   ]
  },
  {
   "cell_type": "code",
   "execution_count": 28,
   "metadata": {},
   "outputs": [],
   "source": [
    "#  !pip install feature-engine"
   ]
  },
  {
   "cell_type": "code",
   "execution_count": 29,
   "metadata": {
    "colab": {},
    "colab_type": "code",
    "id": "4YaxMZuFoFd6"
   },
   "outputs": [],
   "source": [
    "num_col=['collections_12_mths_ex_med','inq_last_6mths','acc_now_delinq','delinq_2yrs','total_credits','pub_rec','numb_credit','annual_inc']"
   ]
  },
  {
   "cell_type": "markdown",
   "metadata": {},
   "source": [
    "### Median Imputation - Simplest form of Imputation "
   ]
  },
  {
   "cell_type": "code",
   "execution_count": 30,
   "metadata": {
    "colab": {},
    "colab_type": "code",
    "id": "2bhv0eVNuAb6"
   },
   "outputs": [],
   "source": [
    "# from feature-engine\n",
    "from feature_engine import missing_data_imputers as mdi"
   ]
  },
  {
   "cell_type": "code",
   "execution_count": 31,
   "metadata": {
    "colab": {
     "base_uri": "https://localhost:8080/",
     "height": 85
    },
    "colab_type": "code",
    "id": "yvdhpXUku6_p",
    "outputId": "eb788312-d235-4b6b-cbf6-f55dc246cee9"
   },
   "outputs": [
    {
     "data": {
      "text/plain": [
       "MeanMedianImputer(variables=['collections_12_mths_ex_med', 'inq_last_6mths',\n",
       "                             'acc_now_delinq', 'delinq_2yrs', 'total_credits',\n",
       "                             'pub_rec', 'numb_credit', 'annual_inc'])"
      ]
     },
     "execution_count": 31,
     "metadata": {},
     "output_type": "execute_result"
    }
   ],
   "source": [
    "# Median imputation \n",
    "imputer = mdi.MeanMedianImputer(imputation_method='median',\n",
    "                                variables=num_col)\n",
    "\n",
    "imputer.fit(data1)"
   ]
  },
  {
   "cell_type": "code",
   "execution_count": 32,
   "metadata": {
    "colab": {
     "base_uri": "https://localhost:8080/",
     "height": 153
    },
    "colab_type": "code",
    "id": "PjLnXM435xBp",
    "outputId": "3c07c439-8cfc-4eec-e678-5db46a241d63"
   },
   "outputs": [
    {
     "data": {
      "text/plain": [
       "{'collections_12_mths_ex_med': 0.0,\n",
       " 'inq_last_6mths': 0.0,\n",
       " 'acc_now_delinq': 0.0,\n",
       " 'delinq_2yrs': 0.0,\n",
       " 'total_credits': 24.0,\n",
       " 'pub_rec': 0.0,\n",
       " 'numb_credit': 11.0,\n",
       " 'annual_inc': 65000.0}"
      ]
     },
     "execution_count": 32,
     "metadata": {},
     "output_type": "execute_result"
    }
   ],
   "source": [
    "imputer.imputer_dict_"
   ]
  },
  {
   "cell_type": "code",
   "execution_count": 33,
   "metadata": {
    "colab": {},
    "colab_type": "code",
    "id": "d8GVSLIV35co"
   },
   "outputs": [],
   "source": [
    "new_data1=imputer.transform(data1)"
   ]
  },
  {
   "cell_type": "code",
   "execution_count": 34,
   "metadata": {
    "colab": {
     "base_uri": "https://localhost:8080/",
     "height": 340
    },
    "colab_type": "code",
    "id": "LuOZ-Laix8js",
    "outputId": "9cbd63e2-4689-4651-eeaa-e6bfd0cf2d92"
   },
   "outputs": [
    {
     "data": {
      "text/plain": [
       "['ï»¿member_id ',\n",
       " 'loan_amnt ',\n",
       " 'Rate_of_intrst',\n",
       " 'annual_inc',\n",
       " 'debt_income_ratio',\n",
       " 'delinq_2yrs',\n",
       " 'inq_last_6mths',\n",
       " 'mths_since_last_delinq',\n",
       " 'numb_credit',\n",
       " 'pub_rec',\n",
       " 'total revol_bal',\n",
       " 'total_credits',\n",
       " 'total_rec_int',\n",
       " 'total_rec_late_fee',\n",
       " 'recoveries',\n",
       " 'collection_recovery_fee',\n",
       " 'collections_12_mths_ex_med',\n",
       " 'acc_now_delinq',\n",
       " 'tot_colle_amt',\n",
       " 'tot_curr_bal']"
      ]
     },
     "execution_count": 34,
     "metadata": {},
     "output_type": "execute_result"
    }
   ],
   "source": [
    "# display numerical variables\n",
    "\n",
    "numerical1 = [col for col in new_data1.columns if new_data1[col].dtypes != 'O']\n",
    "\n",
    "numerical1"
   ]
  },
  {
   "cell_type": "code",
   "execution_count": 35,
   "metadata": {
    "colab": {
     "base_uri": "https://localhost:8080/",
     "height": 357
    },
    "colab_type": "code",
    "id": "weFyoTkMxj8v",
    "outputId": "d57ec35e-a8fb-42ff-e2c9-bb4474770eff"
   },
   "outputs": [
    {
     "data": {
      "text/plain": [
       "tot_curr_bal                  0.079195\n",
       "tot_colle_amt                 0.079195\n",
       "loan_amnt                     0.000000\n",
       "Rate_of_intrst                0.000000\n",
       "annual_inc                    0.000000\n",
       "debt_income_ratio             0.000000\n",
       "delinq_2yrs                   0.000000\n",
       "inq_last_6mths                0.000000\n",
       "mths_since_last_delinq        0.000000\n",
       "numb_credit                   0.000000\n",
       "pub_rec                       0.000000\n",
       "total revol_bal               0.000000\n",
       "total_credits                 0.000000\n",
       "total_rec_int                 0.000000\n",
       "total_rec_late_fee            0.000000\n",
       "recoveries                    0.000000\n",
       "collection_recovery_fee       0.000000\n",
       "collections_12_mths_ex_med    0.000000\n",
       "acc_now_delinq                0.000000\n",
       "ï»¿member_id                  0.000000\n",
       "dtype: float64"
      ]
     },
     "execution_count": 35,
     "metadata": {},
     "output_type": "execute_result"
    }
   ],
   "source": [
    "# checking for missing values in numerical columns after median imputation\n",
    "\n",
    "new_data1[numerical1].isna().mean().sort_values(ascending=False)"
   ]
  },
  {
   "cell_type": "code",
   "execution_count": 36,
   "metadata": {
    "colab": {
     "base_uri": "https://localhost:8080/",
     "height": 34
    },
    "colab_type": "code",
    "id": "voif1dN___Ev",
    "outputId": "3d699a20-450e-403f-af28-fc20ddf0197b"
   },
   "outputs": [
    {
     "data": {
      "text/plain": [
       "pandas.core.frame.DataFrame"
      ]
     },
     "execution_count": 36,
     "metadata": {},
     "output_type": "execute_result"
    }
   ],
   "source": [
    "data_clust = new_data1.copy()\n",
    "x=data_clust[['mths_since_last_delinq','tot_curr_bal','tot_colle_amt','Emp_designation','Experience']]\n",
    "type(x)"
   ]
  },
  {
   "cell_type": "code",
   "execution_count": 37,
   "metadata": {
    "colab": {},
    "colab_type": "code",
    "id": "3hi8XFhq3d8U"
   },
   "outputs": [],
   "source": [
    "# droping column 'verification_status_joint' since it is containing more than 75% of missing values\n",
    "data_clust.drop(columns=['mths_since_last_delinq','tot_curr_bal','tot_colle_amt','Emp_designation','Experience'],inplace=True,axis=1)"
   ]
  },
  {
   "cell_type": "code",
   "execution_count": 38,
   "metadata": {
    "colab": {
     "base_uri": "https://localhost:8080/",
     "height": 476
    },
    "colab_type": "code",
    "id": "OG0uUE5iBl4S",
    "outputId": "3c78b741-ddfe-4f7c-d80c-1b439744550f"
   },
   "outputs": [
    {
     "data": {
      "text/plain": [
       "ï»¿member_id                  0.000000\n",
       "loan_amnt                     0.000000\n",
       "terms                         0.000000\n",
       "batch_ID                      0.147342\n",
       "Rate_of_intrst                0.000000\n",
       "grade                         0.000000\n",
       "sub_grade                     0.000000\n",
       "home_ownership                0.000000\n",
       "annual_inc                    0.000000\n",
       "verification_status           0.000000\n",
       "purpose                       0.000000\n",
       "State                         0.000000\n",
       "debt_income_ratio             0.000000\n",
       "delinq_2yrs                   0.000000\n",
       "inq_last_6mths                0.000000\n",
       "numb_credit                   0.000000\n",
       "pub_rec                       0.000000\n",
       "total revol_bal               0.000000\n",
       "total_credits                 0.000000\n",
       "initial_list_status           0.000000\n",
       "total_rec_int                 0.000000\n",
       "total_rec_late_fee            0.000000\n",
       "recoveries                    0.000000\n",
       "collection_recovery_fee       0.000000\n",
       "collections_12_mths_ex_med    0.000000\n",
       "application_type              0.000000\n",
       "last_week_pay                 0.000000\n",
       "acc_now_delinq                0.000000\n",
       "dtype: float64"
      ]
     },
     "execution_count": 38,
     "metadata": {},
     "output_type": "execute_result"
    }
   ],
   "source": [
    "#Data looks clean and free of missing values\n",
    "data_clust.isna().mean()"
   ]
  },
  {
   "cell_type": "markdown",
   "metadata": {},
   "source": [
    "### RareLabel Categorical Encoding\n",
    "  - Rare labels are those categorical feature values that appear only in a small subset of observations."
   ]
  },
  {
   "cell_type": "code",
   "execution_count": 39,
   "metadata": {
    "colab": {},
    "colab_type": "code",
    "id": "kA38RX4ULDR6"
   },
   "outputs": [],
   "source": [
    "# rarelabel encoding \n",
    "from feature_engine.categorical_encoders import RareLabelCategoricalEncoder"
   ]
  },
  {
   "cell_type": "code",
   "execution_count": 40,
   "metadata": {
    "colab": {
     "base_uri": "https://localhost:8080/",
     "height": 187
    },
    "colab_type": "code",
    "id": "pSqTC4ZpLaa9",
    "outputId": "83da71ba-3930-4587-e06a-dfc5371e7da4"
   },
   "outputs": [
    {
     "data": {
      "text/plain": [
       "['terms',\n",
       " 'batch_ID ',\n",
       " 'grade',\n",
       " 'sub_grade',\n",
       " 'home_ownership',\n",
       " 'verification_status',\n",
       " 'purpose',\n",
       " 'State',\n",
       " 'initial_list_status',\n",
       " 'application_type',\n",
       " 'last_week_pay']"
      ]
     },
     "execution_count": 40,
     "metadata": {},
     "output_type": "execute_result"
    }
   ],
   "source": [
    "categorical = [col for col in data_clust.columns if data_clust[col].dtypes == 'O']\n",
    "\n",
    "categorical"
   ]
  },
  {
   "cell_type": "code",
   "execution_count": 41,
   "metadata": {
    "colab": {},
    "colab_type": "code",
    "id": "3KKL7AUfLIOz"
   },
   "outputs": [],
   "source": [
    "# Rare value encoder\n",
    "rare_encoder = RareLabelCategoricalEncoder(\n",
    "    tol=0.02,  # minimal percentage to be considered non-rare\n",
    "    n_categories=4, # minimal number of categories the variable should have to re-cgroup rare categories\n",
    "    variables=['terms',\n",
    " 'grade',\n",
    " 'sub_grade',\n",
    " 'home_ownership',\n",
    " 'verification_status',\n",
    " 'purpose',\n",
    " 'State',\n",
    " 'initial_list_status',\n",
    " 'application_type',\n",
    " 'last_week_pay'] # variables to re-group\n",
    ")  "
   ]
  },
  {
   "cell_type": "code",
   "execution_count": 42,
   "metadata": {
    "colab": {
     "base_uri": "https://localhost:8080/",
     "height": 173
    },
    "colab_type": "code",
    "id": "zT9mXMCKLuOu",
    "outputId": "ccf0bd6e-738d-4c88-c3f6-7da2f5d3280c"
   },
   "outputs": [
    {
     "name": "stderr",
     "output_type": "stream",
     "text": [
      "C:\\Users\\harsh\\anaconda3\\lib\\site-packages\\feature_engine\\categorical_encoders.py:785: UserWarning: The number of unique categories for variable terms is less than that indicated in n_categories. Thus, all categories will be considered frequent\n",
      "  warnings.warn(\"The number of unique categories for variable {} is less than that indicated in \"\n",
      "C:\\Users\\harsh\\anaconda3\\lib\\site-packages\\feature_engine\\categorical_encoders.py:785: UserWarning: The number of unique categories for variable verification_status is less than that indicated in n_categories. Thus, all categories will be considered frequent\n",
      "  warnings.warn(\"The number of unique categories for variable {} is less than that indicated in \"\n",
      "C:\\Users\\harsh\\anaconda3\\lib\\site-packages\\feature_engine\\categorical_encoders.py:785: UserWarning: The number of unique categories for variable initial_list_status is less than that indicated in n_categories. Thus, all categories will be considered frequent\n",
      "  warnings.warn(\"The number of unique categories for variable {} is less than that indicated in \"\n",
      "C:\\Users\\harsh\\anaconda3\\lib\\site-packages\\feature_engine\\categorical_encoders.py:785: UserWarning: The number of unique categories for variable application_type is less than that indicated in n_categories. Thus, all categories will be considered frequent\n",
      "  warnings.warn(\"The number of unique categories for variable {} is less than that indicated in \"\n"
     ]
    }
   ],
   "source": [
    "data_clust_rare = rare_encoder.fit_transform(data_clust)"
   ]
  },
  {
   "cell_type": "code",
   "execution_count": 43,
   "metadata": {
    "colab": {
     "base_uri": "https://localhost:8080/",
     "height": 323
    },
    "colab_type": "code",
    "id": "LqAh3frmMGyQ",
    "outputId": "11e3a983-900f-48cd-8c69-ff69ac7bc972"
   },
   "outputs": [
    {
     "data": {
      "text/plain": [
       "{'terms': array(['36 months', '60 months'], dtype=object),\n",
       " 'grade': Index(['B', 'C', 'A', 'D', 'E', 'F'], dtype='object'),\n",
       " 'sub_grade': Index(['B3', 'B4', 'C1', 'C2', 'C3', 'C4', 'B5', 'B2', 'B1', 'A5', 'C5', 'D1',\n",
       "        'A4', 'D2', 'D3', 'D4', 'A3', 'A1', 'A2', 'D5', 'E1'],\n",
       "       dtype='object'),\n",
       " 'home_ownership': Index(['MORTGAGE', 'RENT', 'OWN'], dtype='object'),\n",
       " 'verification_status': array(['Source Verified', 'Not Verified', 'Verified'], dtype=object),\n",
       " 'purpose': Index(['debt_consolidation', 'credit_card', 'home_improvement', 'other'], dtype='object'),\n",
       " 'State': Index(['CA', 'NY', 'TX', 'FL', 'IL', 'NJ', 'PA', 'OH', 'GA', 'VA', 'NC', 'MI',\n",
       "        'MD', 'MA', 'AZ', 'WA', 'CO'],\n",
       "       dtype='object'),\n",
       " 'initial_list_status': array(['f', 'w'], dtype=object),\n",
       " 'application_type': array(['INDIVIDUAL', 'JOINT'], dtype=object),\n",
       " 'last_week_pay': Index(['13th week', '9th week', '26th week', '22th week', '4th week',\n",
       "        '35th week', '39th week', '17th week', '31th week', '48th week',\n",
       "        '52th week', '65th week', '61th week', '78th week', '74th week',\n",
       "        '87th week', '91th week'],\n",
       "       dtype='object')}"
      ]
     },
     "execution_count": 43,
     "metadata": {},
     "output_type": "execute_result"
    }
   ],
   "source": [
    "rare_encoder.encoder_dict_"
   ]
  },
  {
   "cell_type": "code",
   "execution_count": 44,
   "metadata": {
    "colab": {
     "base_uri": "https://localhost:8080/",
     "height": 1000
    },
    "colab_type": "code",
    "id": "1X43Q8qTMf53",
    "outputId": "f655f1f7-4951-4d27-e86c-d0741b9f5bcd"
   },
   "outputs": [
    {
     "name": "stdout",
     "output_type": "stream",
     "text": [
      "36 months    621125\n",
      "60 months    266254\n",
      "Name: terms, dtype: int64\n",
      "              234087\n",
      "BAT2252229     18791\n",
      "BAT3873588     17839\n",
      "BAT2803411     17111\n",
      "BAT2078974     14859\n",
      "               ...  \n",
      "BAT2331079        13\n",
      "BAT6671483        10\n",
      "BAT3411179         9\n",
      "BAT3966851         8\n",
      "BAT6027836         7\n",
      "Name: batch_ID , Length: 207, dtype: int64\n",
      "B       254535\n",
      "C       245860\n",
      "A       148202\n",
      "D       139542\n",
      "E        70705\n",
      "F        23046\n",
      "Rare      5489\n",
      "Name: grade, dtype: int64\n",
      "Rare    80972\n",
      "B3      56323\n",
      "B4      55626\n",
      "C1      53387\n",
      "C2      52236\n",
      "C3      50161\n",
      "C4      48857\n",
      "B5      48833\n",
      "B2      48781\n",
      "B1      44972\n",
      "A5      44816\n",
      "C5      41219\n",
      "D1      36238\n",
      "A4      34531\n",
      "D2      29803\n",
      "D3      26554\n",
      "D4      25558\n",
      "A3      23457\n",
      "A1      22913\n",
      "A2      22485\n",
      "D5      21389\n",
      "E1      18268\n",
      "Name: sub_grade, dtype: int64\n",
      "MORTGAGE    443557\n",
      "RENT        356117\n",
      "OWN          87470\n",
      "Rare           235\n",
      "Name: home_ownership, dtype: int64\n",
      "Source Verified    329558\n",
      "Verified           291071\n",
      "Not Verified       266750\n",
      "Name: verification_status, dtype: int64\n",
      "debt_consolidation    524215\n",
      "credit_card           206182\n",
      "Rare                   62259\n",
      "home_improvement       51829\n",
      "other                  42894\n",
      "Name: purpose, dtype: int64\n",
      "Rare    218625\n",
      "CA      129517\n",
      "NY       74086\n",
      "TX       71138\n",
      "FL       60935\n",
      "IL       35476\n",
      "NJ       33256\n",
      "PA       31393\n",
      "OH       29631\n",
      "GA       29085\n",
      "VA       26255\n",
      "NC       24720\n",
      "MI       22985\n",
      "MD       21031\n",
      "MA       20593\n",
      "AZ       20412\n",
      "WA       19434\n",
      "CO       18807\n",
      "Name: State, dtype: int64\n",
      "f    456848\n",
      "w    430531\n",
      "Name: initial_list_status, dtype: int64\n",
      "INDIVIDUAL    886868\n",
      "JOINT            511\n",
      "Name: application_type, dtype: int64\n",
      "Rare         295685\n",
      "13th week     50321\n",
      "9th week      47680\n",
      "26th week     45989\n",
      "22th week     43342\n",
      "4th week      43105\n",
      "35th week     40162\n",
      "39th week     39767\n",
      "17th week     36684\n",
      "31th week     35386\n",
      "48th week     32189\n",
      "52th week     32164\n",
      "65th week     31867\n",
      "61th week     30421\n",
      "78th week     23518\n",
      "74th week     22385\n",
      "87th week     18698\n",
      "91th week     18016\n",
      "Name: last_week_pay, dtype: int64\n"
     ]
    }
   ],
   "source": [
    "for i in categorical:\n",
    "  print(data_clust_rare[i].value_counts())"
   ]
  },
  {
   "cell_type": "code",
   "execution_count": 45,
   "metadata": {
    "colab": {
     "base_uri": "https://localhost:8080/",
     "height": 34
    },
    "colab_type": "code",
    "id": "KuG--dtyOsvv",
    "outputId": "a8e684eb-336c-44c7-8219-afdf4b30976a"
   },
   "outputs": [
    {
     "data": {
      "text/plain": [
       "(887379, 28)"
      ]
     },
     "execution_count": 45,
     "metadata": {},
     "output_type": "execute_result"
    }
   ],
   "source": [
    "data_clust_rare.shape"
   ]
  },
  {
   "cell_type": "code",
   "execution_count": 46,
   "metadata": {
    "colab": {
     "base_uri": "https://localhost:8080/",
     "height": 34
    },
    "colab_type": "code",
    "id": "kmv20iaBPea8",
    "outputId": "d36a3df6-b12a-4168-c3ca-90865342073f"
   },
   "outputs": [
    {
     "data": {
      "text/plain": [
       "(887379, 296)"
      ]
     },
     "execution_count": 46,
     "metadata": {},
     "output_type": "execute_result"
    }
   ],
   "source": [
    "data_clust_rare_enc = pd.get_dummies(data_clust_rare,drop_first=True)\n",
    "data_clust_rare_enc.shape"
   ]
  },
  {
   "cell_type": "code",
   "execution_count": 47,
   "metadata": {
    "colab": {
     "base_uri": "https://localhost:8080/",
     "height": 270
    },
    "colab_type": "code",
    "id": "FkcPZ9PsQOG9",
    "outputId": "5d9fc2bb-e540-43c0-8d6f-9aefe4238207"
   },
   "outputs": [
    {
     "data": {
      "text/html": [
       "<div>\n",
       "<style scoped>\n",
       "    .dataframe tbody tr th:only-of-type {\n",
       "        vertical-align: middle;\n",
       "    }\n",
       "\n",
       "    .dataframe tbody tr th {\n",
       "        vertical-align: top;\n",
       "    }\n",
       "\n",
       "    .dataframe thead th {\n",
       "        text-align: right;\n",
       "    }\n",
       "</style>\n",
       "<table border=\"1\" class=\"dataframe\">\n",
       "  <thead>\n",
       "    <tr style=\"text-align: right;\">\n",
       "      <th></th>\n",
       "      <th>ï»¿member_id</th>\n",
       "      <th>loan_amnt</th>\n",
       "      <th>Rate_of_intrst</th>\n",
       "      <th>annual_inc</th>\n",
       "      <th>debt_income_ratio</th>\n",
       "      <th>delinq_2yrs</th>\n",
       "      <th>inq_last_6mths</th>\n",
       "      <th>numb_credit</th>\n",
       "      <th>pub_rec</th>\n",
       "      <th>total revol_bal</th>\n",
       "      <th>...</th>\n",
       "      <th>last_week_pay_4th week</th>\n",
       "      <th>last_week_pay_52th week</th>\n",
       "      <th>last_week_pay_61th week</th>\n",
       "      <th>last_week_pay_65th week</th>\n",
       "      <th>last_week_pay_74th week</th>\n",
       "      <th>last_week_pay_78th week</th>\n",
       "      <th>last_week_pay_87th week</th>\n",
       "      <th>last_week_pay_91th week</th>\n",
       "      <th>last_week_pay_9th week</th>\n",
       "      <th>last_week_pay_Rare</th>\n",
       "    </tr>\n",
       "  </thead>\n",
       "  <tbody>\n",
       "    <tr>\n",
       "      <th>0</th>\n",
       "      <td>58189336</td>\n",
       "      <td>14350</td>\n",
       "      <td>19.19</td>\n",
       "      <td>28700.0</td>\n",
       "      <td>33.88</td>\n",
       "      <td>0.0</td>\n",
       "      <td>1.0</td>\n",
       "      <td>14.0</td>\n",
       "      <td>1.0</td>\n",
       "      <td>22515.0</td>\n",
       "      <td>...</td>\n",
       "      <td>0</td>\n",
       "      <td>0</td>\n",
       "      <td>0</td>\n",
       "      <td>0</td>\n",
       "      <td>0</td>\n",
       "      <td>0</td>\n",
       "      <td>0</td>\n",
       "      <td>0</td>\n",
       "      <td>0</td>\n",
       "      <td>0</td>\n",
       "    </tr>\n",
       "    <tr>\n",
       "      <th>1</th>\n",
       "      <td>70011223</td>\n",
       "      <td>4800</td>\n",
       "      <td>10.99</td>\n",
       "      <td>65000.0</td>\n",
       "      <td>3.64</td>\n",
       "      <td>0.0</td>\n",
       "      <td>1.0</td>\n",
       "      <td>6.0</td>\n",
       "      <td>0.0</td>\n",
       "      <td>7624.0</td>\n",
       "      <td>...</td>\n",
       "      <td>0</td>\n",
       "      <td>0</td>\n",
       "      <td>0</td>\n",
       "      <td>0</td>\n",
       "      <td>0</td>\n",
       "      <td>0</td>\n",
       "      <td>0</td>\n",
       "      <td>0</td>\n",
       "      <td>1</td>\n",
       "      <td>0</td>\n",
       "    </tr>\n",
       "    <tr>\n",
       "      <th>2</th>\n",
       "      <td>70255675</td>\n",
       "      <td>10000</td>\n",
       "      <td>7.26</td>\n",
       "      <td>45000.0</td>\n",
       "      <td>18.42</td>\n",
       "      <td>0.0</td>\n",
       "      <td>0.0</td>\n",
       "      <td>5.0</td>\n",
       "      <td>0.0</td>\n",
       "      <td>10877.0</td>\n",
       "      <td>...</td>\n",
       "      <td>0</td>\n",
       "      <td>0</td>\n",
       "      <td>0</td>\n",
       "      <td>0</td>\n",
       "      <td>0</td>\n",
       "      <td>0</td>\n",
       "      <td>0</td>\n",
       "      <td>0</td>\n",
       "      <td>1</td>\n",
       "      <td>0</td>\n",
       "    </tr>\n",
       "    <tr>\n",
       "      <th>3</th>\n",
       "      <td>1893936</td>\n",
       "      <td>15000</td>\n",
       "      <td>19.72</td>\n",
       "      <td>105000.0</td>\n",
       "      <td>14.97</td>\n",
       "      <td>0.0</td>\n",
       "      <td>2.0</td>\n",
       "      <td>10.0</td>\n",
       "      <td>0.0</td>\n",
       "      <td>13712.0</td>\n",
       "      <td>...</td>\n",
       "      <td>0</td>\n",
       "      <td>0</td>\n",
       "      <td>0</td>\n",
       "      <td>0</td>\n",
       "      <td>0</td>\n",
       "      <td>0</td>\n",
       "      <td>0</td>\n",
       "      <td>0</td>\n",
       "      <td>0</td>\n",
       "      <td>1</td>\n",
       "    </tr>\n",
       "    <tr>\n",
       "      <th>4</th>\n",
       "      <td>7652106</td>\n",
       "      <td>16000</td>\n",
       "      <td>10.64</td>\n",
       "      <td>52000.0</td>\n",
       "      <td>20.16</td>\n",
       "      <td>0.0</td>\n",
       "      <td>0.0</td>\n",
       "      <td>11.0</td>\n",
       "      <td>0.0</td>\n",
       "      <td>35835.0</td>\n",
       "      <td>...</td>\n",
       "      <td>0</td>\n",
       "      <td>0</td>\n",
       "      <td>0</td>\n",
       "      <td>0</td>\n",
       "      <td>0</td>\n",
       "      <td>0</td>\n",
       "      <td>0</td>\n",
       "      <td>0</td>\n",
       "      <td>0</td>\n",
       "      <td>1</td>\n",
       "    </tr>\n",
       "  </tbody>\n",
       "</table>\n",
       "<p>5 rows × 296 columns</p>\n",
       "</div>"
      ],
      "text/plain": [
       "   ï»¿member_id   loan_amnt   Rate_of_intrst  annual_inc  debt_income_ratio  \\\n",
       "0       58189336       14350           19.19     28700.0              33.88   \n",
       "1       70011223        4800           10.99     65000.0               3.64   \n",
       "2       70255675       10000            7.26     45000.0              18.42   \n",
       "3        1893936       15000           19.72    105000.0              14.97   \n",
       "4        7652106       16000           10.64     52000.0              20.16   \n",
       "\n",
       "   delinq_2yrs  inq_last_6mths  numb_credit  pub_rec  total revol_bal  ...  \\\n",
       "0          0.0             1.0         14.0      1.0          22515.0  ...   \n",
       "1          0.0             1.0          6.0      0.0           7624.0  ...   \n",
       "2          0.0             0.0          5.0      0.0          10877.0  ...   \n",
       "3          0.0             2.0         10.0      0.0          13712.0  ...   \n",
       "4          0.0             0.0         11.0      0.0          35835.0  ...   \n",
       "\n",
       "   last_week_pay_4th week  last_week_pay_52th week  last_week_pay_61th week  \\\n",
       "0                       0                        0                        0   \n",
       "1                       0                        0                        0   \n",
       "2                       0                        0                        0   \n",
       "3                       0                        0                        0   \n",
       "4                       0                        0                        0   \n",
       "\n",
       "   last_week_pay_65th week  last_week_pay_74th week  last_week_pay_78th week  \\\n",
       "0                        0                        0                        0   \n",
       "1                        0                        0                        0   \n",
       "2                        0                        0                        0   \n",
       "3                        0                        0                        0   \n",
       "4                        0                        0                        0   \n",
       "\n",
       "   last_week_pay_87th week  last_week_pay_91th week  last_week_pay_9th week  \\\n",
       "0                        0                        0                       0   \n",
       "1                        0                        0                       1   \n",
       "2                        0                        0                       1   \n",
       "3                        0                        0                       0   \n",
       "4                        0                        0                       0   \n",
       "\n",
       "   last_week_pay_Rare  \n",
       "0                   0  \n",
       "1                   0  \n",
       "2                   0  \n",
       "3                   1  \n",
       "4                   1  \n",
       "\n",
       "[5 rows x 296 columns]"
      ]
     },
     "execution_count": 47,
     "metadata": {},
     "output_type": "execute_result"
    }
   ],
   "source": [
    "data_clust_rare_enc.head()"
   ]
  },
  {
   "cell_type": "code",
   "execution_count": 48,
   "metadata": {
    "colab": {},
    "colab_type": "code",
    "id": "0KC2OPt0Qi_L"
   },
   "outputs": [],
   "source": [
    "# Normalization function \n",
    "def norm_func(i):\n",
    "    x = (i-i.min()) /(i.max() - i.min())\n",
    "    return (x)"
   ]
  },
  {
   "cell_type": "code",
   "execution_count": 49,
   "metadata": {
    "colab": {
     "base_uri": "https://localhost:8080/",
     "height": 425
    },
    "colab_type": "code",
    "id": "HP87qJxvQpRQ",
    "outputId": "3f43a241-f6a1-42e9-90a0-3713e73a6998"
   },
   "outputs": [
    {
     "data": {
      "text/html": [
       "<div>\n",
       "<style scoped>\n",
       "    .dataframe tbody tr th:only-of-type {\n",
       "        vertical-align: middle;\n",
       "    }\n",
       "\n",
       "    .dataframe tbody tr th {\n",
       "        vertical-align: top;\n",
       "    }\n",
       "\n",
       "    .dataframe thead th {\n",
       "        text-align: right;\n",
       "    }\n",
       "</style>\n",
       "<table border=\"1\" class=\"dataframe\">\n",
       "  <thead>\n",
       "    <tr style=\"text-align: right;\">\n",
       "      <th></th>\n",
       "      <th>ï»¿member_id</th>\n",
       "      <th>loan_amnt</th>\n",
       "      <th>Rate_of_intrst</th>\n",
       "      <th>annual_inc</th>\n",
       "      <th>debt_income_ratio</th>\n",
       "      <th>delinq_2yrs</th>\n",
       "      <th>inq_last_6mths</th>\n",
       "      <th>numb_credit</th>\n",
       "      <th>pub_rec</th>\n",
       "      <th>total revol_bal</th>\n",
       "      <th>...</th>\n",
       "      <th>last_week_pay_4th week</th>\n",
       "      <th>last_week_pay_52th week</th>\n",
       "      <th>last_week_pay_61th week</th>\n",
       "      <th>last_week_pay_65th week</th>\n",
       "      <th>last_week_pay_74th week</th>\n",
       "      <th>last_week_pay_78th week</th>\n",
       "      <th>last_week_pay_87th week</th>\n",
       "      <th>last_week_pay_91th week</th>\n",
       "      <th>last_week_pay_9th week</th>\n",
       "      <th>last_week_pay_Rare</th>\n",
       "    </tr>\n",
       "  </thead>\n",
       "  <tbody>\n",
       "    <tr>\n",
       "      <th>0</th>\n",
       "      <td>0.791009</td>\n",
       "      <td>0.401449</td>\n",
       "      <td>0.585974</td>\n",
       "      <td>0.003021</td>\n",
       "      <td>0.003388</td>\n",
       "      <td>0.0</td>\n",
       "      <td>0.030303</td>\n",
       "      <td>0.155556</td>\n",
       "      <td>0.011628</td>\n",
       "      <td>0.007751</td>\n",
       "      <td>...</td>\n",
       "      <td>0.0</td>\n",
       "      <td>0.0</td>\n",
       "      <td>0.0</td>\n",
       "      <td>0.0</td>\n",
       "      <td>0.0</td>\n",
       "      <td>0.0</td>\n",
       "      <td>0.0</td>\n",
       "      <td>0.0</td>\n",
       "      <td>0.0</td>\n",
       "      <td>0.0</td>\n",
       "    </tr>\n",
       "    <tr>\n",
       "      <th>1</th>\n",
       "      <td>0.951907</td>\n",
       "      <td>0.124638</td>\n",
       "      <td>0.239544</td>\n",
       "      <td>0.006842</td>\n",
       "      <td>0.000364</td>\n",
       "      <td>0.0</td>\n",
       "      <td>0.030303</td>\n",
       "      <td>0.066667</td>\n",
       "      <td>0.000000</td>\n",
       "      <td>0.002625</td>\n",
       "      <td>...</td>\n",
       "      <td>0.0</td>\n",
       "      <td>0.0</td>\n",
       "      <td>0.0</td>\n",
       "      <td>0.0</td>\n",
       "      <td>0.0</td>\n",
       "      <td>0.0</td>\n",
       "      <td>0.0</td>\n",
       "      <td>0.0</td>\n",
       "      <td>1.0</td>\n",
       "      <td>0.0</td>\n",
       "    </tr>\n",
       "    <tr>\n",
       "      <th>2</th>\n",
       "      <td>0.955234</td>\n",
       "      <td>0.275362</td>\n",
       "      <td>0.081960</td>\n",
       "      <td>0.004737</td>\n",
       "      <td>0.001842</td>\n",
       "      <td>0.0</td>\n",
       "      <td>0.000000</td>\n",
       "      <td>0.055556</td>\n",
       "      <td>0.000000</td>\n",
       "      <td>0.003744</td>\n",
       "      <td>...</td>\n",
       "      <td>0.0</td>\n",
       "      <td>0.0</td>\n",
       "      <td>0.0</td>\n",
       "      <td>0.0</td>\n",
       "      <td>0.0</td>\n",
       "      <td>0.0</td>\n",
       "      <td>0.0</td>\n",
       "      <td>0.0</td>\n",
       "      <td>1.0</td>\n",
       "      <td>0.0</td>\n",
       "    </tr>\n",
       "    <tr>\n",
       "      <th>3</th>\n",
       "      <td>0.024818</td>\n",
       "      <td>0.420290</td>\n",
       "      <td>0.608365</td>\n",
       "      <td>0.011053</td>\n",
       "      <td>0.001497</td>\n",
       "      <td>0.0</td>\n",
       "      <td>0.060606</td>\n",
       "      <td>0.111111</td>\n",
       "      <td>0.000000</td>\n",
       "      <td>0.004720</td>\n",
       "      <td>...</td>\n",
       "      <td>0.0</td>\n",
       "      <td>0.0</td>\n",
       "      <td>0.0</td>\n",
       "      <td>0.0</td>\n",
       "      <td>0.0</td>\n",
       "      <td>0.0</td>\n",
       "      <td>0.0</td>\n",
       "      <td>0.0</td>\n",
       "      <td>0.0</td>\n",
       "      <td>1.0</td>\n",
       "    </tr>\n",
       "    <tr>\n",
       "      <th>4</th>\n",
       "      <td>0.103187</td>\n",
       "      <td>0.449275</td>\n",
       "      <td>0.224757</td>\n",
       "      <td>0.005474</td>\n",
       "      <td>0.002016</td>\n",
       "      <td>0.0</td>\n",
       "      <td>0.000000</td>\n",
       "      <td>0.122222</td>\n",
       "      <td>0.000000</td>\n",
       "      <td>0.012336</td>\n",
       "      <td>...</td>\n",
       "      <td>0.0</td>\n",
       "      <td>0.0</td>\n",
       "      <td>0.0</td>\n",
       "      <td>0.0</td>\n",
       "      <td>0.0</td>\n",
       "      <td>0.0</td>\n",
       "      <td>0.0</td>\n",
       "      <td>0.0</td>\n",
       "      <td>0.0</td>\n",
       "      <td>1.0</td>\n",
       "    </tr>\n",
       "    <tr>\n",
       "      <th>5</th>\n",
       "      <td>0.138508</td>\n",
       "      <td>0.420290</td>\n",
       "      <td>0.151246</td>\n",
       "      <td>0.012632</td>\n",
       "      <td>0.001230</td>\n",
       "      <td>0.0</td>\n",
       "      <td>0.000000</td>\n",
       "      <td>0.200000</td>\n",
       "      <td>0.000000</td>\n",
       "      <td>0.006555</td>\n",
       "      <td>...</td>\n",
       "      <td>0.0</td>\n",
       "      <td>0.0</td>\n",
       "      <td>0.0</td>\n",
       "      <td>0.0</td>\n",
       "      <td>0.0</td>\n",
       "      <td>0.0</td>\n",
       "      <td>0.0</td>\n",
       "      <td>0.0</td>\n",
       "      <td>0.0</td>\n",
       "      <td>1.0</td>\n",
       "    </tr>\n",
       "    <tr>\n",
       "      <th>6</th>\n",
       "      <td>0.109142</td>\n",
       "      <td>0.130435</td>\n",
       "      <td>0.108999</td>\n",
       "      <td>0.007895</td>\n",
       "      <td>0.000570</td>\n",
       "      <td>0.0</td>\n",
       "      <td>0.000000</td>\n",
       "      <td>0.144444</td>\n",
       "      <td>0.023256</td>\n",
       "      <td>0.004569</td>\n",
       "      <td>...</td>\n",
       "      <td>0.0</td>\n",
       "      <td>0.0</td>\n",
       "      <td>0.0</td>\n",
       "      <td>0.0</td>\n",
       "      <td>0.0</td>\n",
       "      <td>0.0</td>\n",
       "      <td>0.0</td>\n",
       "      <td>0.0</td>\n",
       "      <td>0.0</td>\n",
       "      <td>1.0</td>\n",
       "    </tr>\n",
       "    <tr>\n",
       "      <th>7</th>\n",
       "      <td>0.312662</td>\n",
       "      <td>0.159420</td>\n",
       "      <td>0.162653</td>\n",
       "      <td>0.005684</td>\n",
       "      <td>0.001163</td>\n",
       "      <td>0.0</td>\n",
       "      <td>0.030303</td>\n",
       "      <td>0.144444</td>\n",
       "      <td>0.000000</td>\n",
       "      <td>0.001199</td>\n",
       "      <td>...</td>\n",
       "      <td>0.0</td>\n",
       "      <td>0.0</td>\n",
       "      <td>0.0</td>\n",
       "      <td>0.0</td>\n",
       "      <td>0.0</td>\n",
       "      <td>1.0</td>\n",
       "      <td>0.0</td>\n",
       "      <td>0.0</td>\n",
       "      <td>0.0</td>\n",
       "      <td>0.0</td>\n",
       "    </tr>\n",
       "    <tr>\n",
       "      <th>8</th>\n",
       "      <td>0.623761</td>\n",
       "      <td>0.159420</td>\n",
       "      <td>0.366286</td>\n",
       "      <td>0.009684</td>\n",
       "      <td>0.003085</td>\n",
       "      <td>0.0</td>\n",
       "      <td>0.000000</td>\n",
       "      <td>0.177778</td>\n",
       "      <td>0.000000</td>\n",
       "      <td>0.016375</td>\n",
       "      <td>...</td>\n",
       "      <td>0.0</td>\n",
       "      <td>0.0</td>\n",
       "      <td>0.0</td>\n",
       "      <td>0.0</td>\n",
       "      <td>0.0</td>\n",
       "      <td>0.0</td>\n",
       "      <td>0.0</td>\n",
       "      <td>0.0</td>\n",
       "      <td>0.0</td>\n",
       "      <td>1.0</td>\n",
       "    </tr>\n",
       "    <tr>\n",
       "      <th>9</th>\n",
       "      <td>0.560767</td>\n",
       "      <td>0.986957</td>\n",
       "      <td>0.499366</td>\n",
       "      <td>0.007579</td>\n",
       "      <td>0.003392</td>\n",
       "      <td>0.0</td>\n",
       "      <td>0.000000</td>\n",
       "      <td>0.133333</td>\n",
       "      <td>0.000000</td>\n",
       "      <td>0.010341</td>\n",
       "      <td>...</td>\n",
       "      <td>0.0</td>\n",
       "      <td>1.0</td>\n",
       "      <td>0.0</td>\n",
       "      <td>0.0</td>\n",
       "      <td>0.0</td>\n",
       "      <td>0.0</td>\n",
       "      <td>0.0</td>\n",
       "      <td>0.0</td>\n",
       "      <td>0.0</td>\n",
       "      <td>0.0</td>\n",
       "    </tr>\n",
       "  </tbody>\n",
       "</table>\n",
       "<p>10 rows × 296 columns</p>\n",
       "</div>"
      ],
      "text/plain": [
       "   ï»¿member_id   loan_amnt   Rate_of_intrst  annual_inc  debt_income_ratio  \\\n",
       "0       0.791009    0.401449        0.585974    0.003021           0.003388   \n",
       "1       0.951907    0.124638        0.239544    0.006842           0.000364   \n",
       "2       0.955234    0.275362        0.081960    0.004737           0.001842   \n",
       "3       0.024818    0.420290        0.608365    0.011053           0.001497   \n",
       "4       0.103187    0.449275        0.224757    0.005474           0.002016   \n",
       "5       0.138508    0.420290        0.151246    0.012632           0.001230   \n",
       "6       0.109142    0.130435        0.108999    0.007895           0.000570   \n",
       "7       0.312662    0.159420        0.162653    0.005684           0.001163   \n",
       "8       0.623761    0.159420        0.366286    0.009684           0.003085   \n",
       "9       0.560767    0.986957        0.499366    0.007579           0.003392   \n",
       "\n",
       "   delinq_2yrs  inq_last_6mths  numb_credit   pub_rec  total revol_bal  ...  \\\n",
       "0          0.0        0.030303     0.155556  0.011628         0.007751  ...   \n",
       "1          0.0        0.030303     0.066667  0.000000         0.002625  ...   \n",
       "2          0.0        0.000000     0.055556  0.000000         0.003744  ...   \n",
       "3          0.0        0.060606     0.111111  0.000000         0.004720  ...   \n",
       "4          0.0        0.000000     0.122222  0.000000         0.012336  ...   \n",
       "5          0.0        0.000000     0.200000  0.000000         0.006555  ...   \n",
       "6          0.0        0.000000     0.144444  0.023256         0.004569  ...   \n",
       "7          0.0        0.030303     0.144444  0.000000         0.001199  ...   \n",
       "8          0.0        0.000000     0.177778  0.000000         0.016375  ...   \n",
       "9          0.0        0.000000     0.133333  0.000000         0.010341  ...   \n",
       "\n",
       "   last_week_pay_4th week  last_week_pay_52th week  last_week_pay_61th week  \\\n",
       "0                     0.0                      0.0                      0.0   \n",
       "1                     0.0                      0.0                      0.0   \n",
       "2                     0.0                      0.0                      0.0   \n",
       "3                     0.0                      0.0                      0.0   \n",
       "4                     0.0                      0.0                      0.0   \n",
       "5                     0.0                      0.0                      0.0   \n",
       "6                     0.0                      0.0                      0.0   \n",
       "7                     0.0                      0.0                      0.0   \n",
       "8                     0.0                      0.0                      0.0   \n",
       "9                     0.0                      1.0                      0.0   \n",
       "\n",
       "   last_week_pay_65th week  last_week_pay_74th week  last_week_pay_78th week  \\\n",
       "0                      0.0                      0.0                      0.0   \n",
       "1                      0.0                      0.0                      0.0   \n",
       "2                      0.0                      0.0                      0.0   \n",
       "3                      0.0                      0.0                      0.0   \n",
       "4                      0.0                      0.0                      0.0   \n",
       "5                      0.0                      0.0                      0.0   \n",
       "6                      0.0                      0.0                      0.0   \n",
       "7                      0.0                      0.0                      1.0   \n",
       "8                      0.0                      0.0                      0.0   \n",
       "9                      0.0                      0.0                      0.0   \n",
       "\n",
       "   last_week_pay_87th week  last_week_pay_91th week  last_week_pay_9th week  \\\n",
       "0                      0.0                      0.0                     0.0   \n",
       "1                      0.0                      0.0                     1.0   \n",
       "2                      0.0                      0.0                     1.0   \n",
       "3                      0.0                      0.0                     0.0   \n",
       "4                      0.0                      0.0                     0.0   \n",
       "5                      0.0                      0.0                     0.0   \n",
       "6                      0.0                      0.0                     0.0   \n",
       "7                      0.0                      0.0                     0.0   \n",
       "8                      0.0                      0.0                     0.0   \n",
       "9                      0.0                      0.0                     0.0   \n",
       "\n",
       "   last_week_pay_Rare  \n",
       "0                 0.0  \n",
       "1                 0.0  \n",
       "2                 0.0  \n",
       "3                 1.0  \n",
       "4                 1.0  \n",
       "5                 1.0  \n",
       "6                 1.0  \n",
       "7                 0.0  \n",
       "8                 1.0  \n",
       "9                 0.0  \n",
       "\n",
       "[10 rows x 296 columns]"
      ]
     },
     "execution_count": 49,
     "metadata": {},
     "output_type": "execute_result"
    }
   ],
   "source": [
    "df_norm = norm_func(data_clust_rare_enc)\n",
    "df_norm.head(10)  # Top 10 rows"
   ]
  },
  {
   "cell_type": "markdown",
   "metadata": {},
   "source": [
    "### Principal Component Analysis\n",
    "   - PCA used to make data easy to explore and visualize. Also, to explain the variance-covariance structure of a set of            variables through linear combinations"
   ]
  },
  {
   "cell_type": "code",
   "execution_count": 50,
   "metadata": {
    "colab": {},
    "colab_type": "code",
    "id": "vQTfdj-8fRhR"
   },
   "outputs": [],
   "source": [
    "from sklearn.decomposition import PCA"
   ]
  },
  {
   "cell_type": "code",
   "execution_count": 51,
   "metadata": {
    "colab": {},
    "colab_type": "code",
    "id": "S5VlelFAfnSH"
   },
   "outputs": [],
   "source": [
    "pca = PCA()\n",
    "pca_values = pca.fit_transform(df_norm)"
   ]
  },
  {
   "cell_type": "code",
   "execution_count": 52,
   "metadata": {
    "colab": {
     "base_uri": "https://localhost:8080/",
     "height": 408
    },
    "colab_type": "code",
    "id": "ir2LbXPMf3sT",
    "outputId": "f4307cfc-5b7d-44b0-d7b3-3b85ff9056a9"
   },
   "outputs": [
    {
     "data": {
      "text/plain": [
       "array([6.90462275e-02, 6.88753872e-02, 5.75763489e-02, 5.35369356e-02,\n",
       "       4.79984839e-02, 4.51624325e-02, 3.58039893e-02, 3.32051753e-02,\n",
       "       3.18258731e-02, 2.51981787e-02, 2.11011433e-02, 1.78235786e-02,\n",
       "       1.71139152e-02, 1.44095770e-02, 1.41496543e-02, 1.35462968e-02,\n",
       "       1.26588664e-02, 1.13728947e-02, 1.08683218e-02, 1.02539718e-02,\n",
       "       1.01619806e-02, 1.00898194e-02, 9.88676896e-03, 9.62570737e-03,\n",
       "       9.57103409e-03, 9.53680765e-03, 9.48468301e-03, 9.13240085e-03,\n",
       "       8.92081608e-03, 8.72039175e-03, 8.42878688e-03, 8.30137509e-03,\n",
       "       8.27317107e-03, 8.18283558e-03, 7.94865886e-03, 7.60389641e-03,\n",
       "       7.59409756e-03, 7.05083544e-03, 6.85830901e-03, 6.72416898e-03,\n",
       "       6.58500458e-03, 6.54596129e-03, 6.45163030e-03, 6.20382393e-03,\n",
       "       6.08013046e-03, 5.91926530e-03, 5.68863733e-03, 5.50881908e-03,\n",
       "       5.38990963e-03, 5.27773863e-03, 5.04383839e-03, 4.91241822e-03,\n",
       "       4.77320328e-03, 4.58468101e-03, 4.46368068e-03, 4.43993790e-03,\n",
       "       4.34276073e-03, 4.21730451e-03, 4.02544571e-03, 3.88548506e-03,\n",
       "       3.83368199e-03, 3.75777090e-03, 3.68583537e-03, 3.44746251e-03,\n",
       "       3.02266483e-03, 2.70410788e-03, 2.61367173e-03, 2.43899968e-03,\n",
       "       2.28785360e-03, 2.23734935e-03, 2.23402722e-03, 2.22401991e-03,\n",
       "       2.10507106e-03, 1.99734842e-03, 1.90240463e-03, 1.78625263e-03,\n",
       "       1.75981331e-03, 1.73809226e-03, 1.65570869e-03, 1.61940283e-03,\n",
       "       1.54396358e-03, 1.43431869e-03, 1.40919919e-03, 1.36892246e-03,\n",
       "       1.30582243e-03, 1.26657682e-03, 1.25121201e-03, 1.24221719e-03,\n",
       "       1.23307328e-03, 1.22697426e-03, 1.16364786e-03, 1.15388638e-03,\n",
       "       1.14109160e-03, 1.14037213e-03, 1.13723953e-03, 1.11853147e-03,\n",
       "       1.10335772e-03, 1.08447846e-03, 1.07467737e-03, 1.06731295e-03,\n",
       "       1.02878776e-03, 9.89576711e-04, 9.62676410e-04, 9.58550559e-04,\n",
       "       9.33971040e-04, 8.97977773e-04, 8.74961385e-04, 8.69822483e-04,\n",
       "       8.29013065e-04, 8.04744939e-04, 7.97230003e-04, 7.89160062e-04,\n",
       "       7.64793647e-04, 7.25990031e-04, 7.16522787e-04, 7.16109731e-04,\n",
       "       6.90035739e-04, 6.84713046e-04, 6.72443891e-04, 6.57426491e-04,\n",
       "       6.26272201e-04, 6.20490961e-04, 6.07426024e-04, 6.05464219e-04,\n",
       "       5.93670794e-04, 5.76232118e-04, 5.57920992e-04, 5.42333322e-04,\n",
       "       5.20395773e-04, 5.08358883e-04, 4.92789209e-04, 4.75257182e-04,\n",
       "       4.69871068e-04, 4.66506035e-04, 4.59800101e-04, 4.44002256e-04,\n",
       "       4.29762403e-04, 4.22734926e-04, 4.12401602e-04, 3.93669521e-04,\n",
       "       3.87547848e-04, 3.83186198e-04, 3.67340776e-04, 3.45967883e-04,\n",
       "       3.27334534e-04, 2.96913748e-04, 2.86868427e-04, 2.78250999e-04,\n",
       "       2.65079578e-04, 2.58680956e-04, 2.54071629e-04, 2.45930526e-04,\n",
       "       2.39040442e-04, 2.28843002e-04, 2.25170741e-04, 2.24417026e-04,\n",
       "       2.13993940e-04, 2.09897210e-04, 2.07171689e-04, 1.88512981e-04,\n",
       "       1.84814673e-04, 1.78761093e-04, 1.71493692e-04, 1.64472137e-04,\n",
       "       1.62653215e-04, 1.59299883e-04, 1.55768146e-04, 1.43527634e-04,\n",
       "       1.38659798e-04, 1.35313060e-04, 1.30483809e-04, 1.29030142e-04,\n",
       "       1.27443095e-04, 1.24067193e-04, 1.17469244e-04, 1.14370929e-04,\n",
       "       1.07727232e-04, 1.07047095e-04, 1.04188723e-04, 1.03307750e-04,\n",
       "       1.01583826e-04, 9.89608625e-05, 9.86100222e-05, 9.46076550e-05,\n",
       "       9.33876251e-05, 9.19325955e-05, 8.91813662e-05, 8.84750459e-05,\n",
       "       8.77402768e-05, 8.63434550e-05, 8.41991775e-05, 8.27253778e-05,\n",
       "       8.13120599e-05, 8.08317297e-05, 8.07284607e-05, 7.96224214e-05,\n",
       "       7.60168046e-05, 7.20895107e-05, 7.19144995e-05, 6.57665673e-05,\n",
       "       6.33541868e-05, 6.25554503e-05, 6.20047010e-05, 5.83045018e-05,\n",
       "       5.53058279e-05, 5.36357739e-05, 5.11593549e-05, 5.08110067e-05,\n",
       "       5.00802935e-05, 4.88123715e-05, 4.84861688e-05, 4.83468989e-05,\n",
       "       4.79625720e-05, 4.70517143e-05, 4.61012310e-05, 4.56021897e-05,\n",
       "       4.51650286e-05, 4.39696878e-05, 4.20489420e-05, 3.91289754e-05,\n",
       "       3.70725194e-05, 3.49499096e-05, 3.41386618e-05, 3.19228946e-05,\n",
       "       3.12959140e-05, 2.96914212e-05, 2.95005868e-05, 2.75223840e-05,\n",
       "       2.73120139e-05, 2.71024779e-05, 2.67923303e-05, 2.65097559e-05,\n",
       "       2.42493722e-05, 2.39777833e-05, 2.30934090e-05, 2.29930568e-05,\n",
       "       2.27288079e-05, 2.17805997e-05, 2.11211260e-05, 2.09963736e-05,\n",
       "       2.08477949e-05, 2.05174723e-05, 1.94076270e-05, 1.86227136e-05,\n",
       "       1.83760946e-05, 1.78025036e-05, 1.74163905e-05, 1.60842590e-05,\n",
       "       1.59083389e-05, 1.58523980e-05, 1.48519586e-05, 1.34806047e-05,\n",
       "       1.31717721e-05, 1.28000117e-05, 1.27277068e-05, 1.25855167e-05,\n",
       "       1.21991196e-05, 1.17566057e-05, 1.04496713e-05, 1.02426112e-05,\n",
       "       9.50544904e-06, 9.49948169e-06, 9.43572862e-06, 8.53743170e-06,\n",
       "       8.50422811e-06, 8.29564034e-06, 8.14960091e-06, 8.09251167e-06,\n",
       "       7.71783186e-06, 7.50673289e-06, 6.38387280e-06, 5.82174259e-06,\n",
       "       5.80334457e-06, 5.79292448e-06, 5.61422401e-06, 5.42364512e-06,\n",
       "       5.17414422e-06, 5.03286493e-06, 4.26912403e-06, 4.25729142e-06,\n",
       "       3.68472695e-06, 3.49297762e-06, 3.48521616e-06, 3.47357639e-06,\n",
       "       3.10174728e-06, 2.71191402e-06, 2.51889375e-06, 1.93922093e-06,\n",
       "       1.74616597e-06, 1.55200445e-06, 1.35795378e-06, 4.76424455e-07,\n",
       "       1.36169674e-32, 6.82491125e-33, 6.07336602e-33, 1.36264572e-33])"
      ]
     },
     "execution_count": 52,
     "metadata": {},
     "output_type": "execute_result"
    }
   ],
   "source": [
    "# The amount of variance that each PCA explains is in sorted order\n",
    "var = pca.explained_variance_ratio_\n",
    "var"
   ]
  },
  {
   "cell_type": "code",
   "execution_count": 53,
   "metadata": {
    "colab": {
     "base_uri": "https://localhost:8080/",
     "height": 221
    },
    "colab_type": "code",
    "id": "JL49N5IogF_K",
    "outputId": "e33e7a3b-8f48-47a1-ee32-cdd6e79d821b"
   },
   "outputs": [
    {
     "data": {
      "text/plain": [
       "array([ 6.9 , 13.79, 19.55, 24.9 , 29.7 , 34.22, 37.8 , 41.12, 44.3 ,\n",
       "       46.82, 48.93, 50.71, 52.42, 53.86, 55.27, 56.62, 57.89, 59.03,\n",
       "       60.12, 61.15, 62.17, 63.18, 64.17, 65.13, 66.09, 67.04, 67.99,\n",
       "       68.9 , 69.79, 70.66, 71.5 , 72.33, 73.16, 73.98, 74.77, 75.53,\n",
       "       76.29, 77.  , 77.69, 78.36, 79.02, 79.67, 80.32, 80.94, 81.55,\n",
       "       82.14, 82.71, 83.26, 83.8 , 84.33, 84.83, 85.32, 85.8 , 86.26,\n",
       "       86.71, 87.15, 87.58, 88.  , 88.4 , 88.79, 89.17, 89.55, 89.92,\n",
       "       90.26, 90.56, 90.83, 91.09, 91.33, 91.56, 91.78, 92.  , 92.22,\n",
       "       92.43, 92.63, 92.82, 93.  , 93.18, 93.35, 93.52, 93.68, 93.83,\n",
       "       93.97, 94.11, 94.25, 94.38, 94.51, 94.64, 94.76, 94.88, 95.  ,\n",
       "       95.12, 95.24, 95.35, 95.46, 95.57, 95.68, 95.79, 95.9 , 96.01,\n",
       "       96.12, 96.22, 96.32, 96.42, 96.52, 96.61, 96.7 , 96.79, 96.88,\n",
       "       96.96, 97.04, 97.12, 97.2 , 97.28, 97.35, 97.42, 97.49, 97.56,\n",
       "       97.63, 97.7 , 97.77, 97.83, 97.89, 97.95, 98.01, 98.07, 98.13,\n",
       "       98.19, 98.24, 98.29, 98.34, 98.39, 98.44, 98.49, 98.54, 98.59,\n",
       "       98.63, 98.67, 98.71, 98.75, 98.79, 98.83, 98.87, 98.91, 98.94,\n",
       "       98.97, 99.  , 99.03, 99.06, 99.09, 99.12, 99.15, 99.17, 99.19,\n",
       "       99.21, 99.23, 99.25, 99.27, 99.29, 99.31, 99.33, 99.35, 99.37,\n",
       "       99.39, 99.41, 99.43, 99.45, 99.47, 99.48, 99.49, 99.5 , 99.51,\n",
       "       99.52, 99.53, 99.54, 99.55, 99.56, 99.57, 99.58, 99.59, 99.6 ,\n",
       "       99.61, 99.62, 99.63, 99.64, 99.65, 99.66, 99.67, 99.68, 99.69,\n",
       "       99.7 , 99.71, 99.72, 99.73, 99.74, 99.75, 99.76, 99.77, 99.78,\n",
       "       99.79, 99.8 , 99.81, 99.82, 99.83, 99.84, 99.85, 99.86, 99.87,\n",
       "       99.88, 99.89, 99.89, 99.89, 99.89, 99.89, 99.89, 99.89, 99.89,\n",
       "       99.89, 99.89, 99.89, 99.89, 99.89, 99.89, 99.89, 99.89, 99.89,\n",
       "       99.89, 99.89, 99.89, 99.89, 99.89, 99.89, 99.89, 99.89, 99.89,\n",
       "       99.89, 99.89, 99.89, 99.89, 99.89, 99.89, 99.89, 99.89, 99.89,\n",
       "       99.89, 99.89, 99.89, 99.89, 99.89, 99.89, 99.89, 99.89, 99.89,\n",
       "       99.89, 99.89, 99.89, 99.89, 99.89, 99.89, 99.89, 99.89, 99.89,\n",
       "       99.89, 99.89, 99.89, 99.89, 99.89, 99.89, 99.89, 99.89, 99.89,\n",
       "       99.89, 99.89, 99.89, 99.89, 99.89, 99.89, 99.89, 99.89, 99.89,\n",
       "       99.89, 99.89, 99.89, 99.89, 99.89, 99.89, 99.89, 99.89, 99.89,\n",
       "       99.89, 99.89, 99.89, 99.89, 99.89, 99.89, 99.89, 99.89])"
      ]
     },
     "execution_count": 53,
     "metadata": {},
     "output_type": "execute_result"
    }
   ],
   "source": [
    "# Cumulative variance \n",
    "\n",
    "var1 = np.cumsum(np.round(var,decimals = 4)*100)\n",
    "var1\n"
   ]
  },
  {
   "cell_type": "code",
   "execution_count": 54,
   "metadata": {
    "colab": {
     "base_uri": "https://localhost:8080/",
     "height": 34
    },
    "colab_type": "code",
    "id": "75BOw8nSgap-",
    "outputId": "bc799f5a-60a2-498b-be1f-4604f3612425"
   },
   "outputs": [
    {
     "data": {
      "text/plain": [
       "(887379, 56)"
      ]
     },
     "execution_count": 54,
     "metadata": {},
     "output_type": "execute_result"
    }
   ],
   "source": [
    "new_df = pd.DataFrame(pca_values[:,0:56])  #here we r creating data frame consisting of top three pca having highest variance\n",
    "new_df.shape"
   ]
  },
  {
   "cell_type": "markdown",
   "metadata": {},
   "source": [
    "### K-Means Clustering\n",
    " - K-means is a centroid-based algorithm, or a distance-based algorithm, where we calculate the distances to assign a point to a cluster\n",
    " - K-means algorithm identifies k number of centroids, and then allocates every data point to the nearest cluster, while keeping the centroids as small as possible."
   ]
  },
  {
   "cell_type": "code",
   "execution_count": 55,
   "metadata": {
    "colab": {},
    "colab_type": "code",
    "id": "9rdQ6fQ4Yf4A"
   },
   "outputs": [],
   "source": [
    "from sklearn.cluster import KMeans\n",
    "from scipy.spatial.distance import cdist "
   ]
  },
  {
   "cell_type": "code",
   "execution_count": null,
   "metadata": {
    "colab": {
     "base_uri": "https://localhost:8080/",
     "height": 291
    },
    "colab_type": "code",
    "id": "4ZtYtm5UWFnb",
    "outputId": "e4a6bf62-ec5d-4eb8-f132-82799d6ddf18"
   },
   "outputs": [],
   "source": [
    "# ###### scree plot or elbow curve ############\n",
    "# k = list(range(2,10))\n",
    "# # variable for storing total within sum of squares for each kmeans \n",
    "# TWSS = [] \n",
    "# for i in k:\n",
    "#     kmeans = KMeans(n_clusters = i)\n",
    "#     kmeans.fit(new_df)\n",
    "#     # variable for storing within sum of squares for each cluster \n",
    "#     WSS = [] \n",
    "#     for j in range(i):\n",
    "#         WSS.append(sum(cdist(new_df.iloc[kmeans.labels_==j,:],kmeans.cluster_centers_[j].reshape(1,new_df.shape[1]),\"euclidean\")))\n",
    "#     TWSS.append(sum(WSS))\n",
    "# # Scree plot \n",
    "# plt.plot(k,TWSS, 'ro-');plt.xlabel(\"No_of_Clusters\");plt.ylabel(\"total_within_SS\");plt.xticks(k)\n",
    "# plt.show()"
   ]
  },
  {
   "cell_type": "code",
   "execution_count": 57,
   "metadata": {
    "colab": {
     "base_uri": "https://localhost:8080/",
     "height": 34
    },
    "colab_type": "code",
    "id": "Ma3wqlJpntJF",
    "outputId": "c16bac99-ff16-47e6-e867-f48471c6a4a9"
   },
   "outputs": [
    {
     "data": {
      "text/plain": [
       "array([3, 5, 6, ..., 3, 0, 4])"
      ]
     },
     "execution_count": 57,
     "metadata": {},
     "output_type": "execute_result"
    }
   ],
   "source": [
    "# Selecting 9 clusters from the above scree plot which is the optimum number of clusters \n",
    "model1=KMeans(n_clusters=9) \n",
    "model1.fit(new_df)\n",
    "\n",
    "model1.labels_ # getting the labels of clusters assigned to each row "
   ]
  },
  {
   "cell_type": "code",
   "execution_count": 58,
   "metadata": {
    "colab": {},
    "colab_type": "code",
    "id": "p4tpggC3o74a"
   },
   "outputs": [],
   "source": [
    "new_df['Clust_no']=model1.labels_ # creating a  new column and assigning it to new column "
   ]
  },
  {
   "cell_type": "code",
   "execution_count": 59,
   "metadata": {
    "colab": {},
    "colab_type": "code",
    "id": "FtGQPnC9pKvi"
   },
   "outputs": [],
   "source": [
    "final_data = pd.concat([new_df, x], axis=1, sort=False)"
   ]
  },
  {
   "cell_type": "code",
   "execution_count": 60,
   "metadata": {
    "colab": {
     "base_uri": "https://localhost:8080/",
     "height": 309
    },
    "colab_type": "code",
    "id": "gfAyRsIbpWex",
    "outputId": "bc271538-224e-4f83-edf0-de50a75e37d8"
   },
   "outputs": [
    {
     "data": {
      "text/html": [
       "<div>\n",
       "<style scoped>\n",
       "    .dataframe tbody tr th:only-of-type {\n",
       "        vertical-align: middle;\n",
       "    }\n",
       "\n",
       "    .dataframe tbody tr th {\n",
       "        vertical-align: top;\n",
       "    }\n",
       "\n",
       "    .dataframe thead th {\n",
       "        text-align: right;\n",
       "    }\n",
       "</style>\n",
       "<table border=\"1\" class=\"dataframe\">\n",
       "  <thead>\n",
       "    <tr style=\"text-align: right;\">\n",
       "      <th></th>\n",
       "      <th>0</th>\n",
       "      <th>1</th>\n",
       "      <th>2</th>\n",
       "      <th>3</th>\n",
       "      <th>4</th>\n",
       "      <th>5</th>\n",
       "      <th>6</th>\n",
       "      <th>7</th>\n",
       "      <th>8</th>\n",
       "      <th>9</th>\n",
       "      <th>...</th>\n",
       "      <th>52</th>\n",
       "      <th>53</th>\n",
       "      <th>54</th>\n",
       "      <th>55</th>\n",
       "      <th>Clust_no</th>\n",
       "      <th>mths_since_last_delinq</th>\n",
       "      <th>tot_curr_bal</th>\n",
       "      <th>tot_colle_amt</th>\n",
       "      <th>Emp_designation</th>\n",
       "      <th>Experience</th>\n",
       "    </tr>\n",
       "  </thead>\n",
       "  <tbody>\n",
       "    <tr>\n",
       "      <th>0</th>\n",
       "      <td>-0.505788</td>\n",
       "      <td>-0.260573</td>\n",
       "      <td>-0.511430</td>\n",
       "      <td>-0.051153</td>\n",
       "      <td>0.654535</td>\n",
       "      <td>-0.088000</td>\n",
       "      <td>0.274516</td>\n",
       "      <td>-0.623671</td>\n",
       "      <td>-0.770680</td>\n",
       "      <td>1.081156</td>\n",
       "      <td>...</td>\n",
       "      <td>0.007600</td>\n",
       "      <td>-0.017532</td>\n",
       "      <td>-0.007205</td>\n",
       "      <td>-0.000343</td>\n",
       "      <td>3</td>\n",
       "      <td>50.000000</td>\n",
       "      <td>28699.0</td>\n",
       "      <td>0.0</td>\n",
       "      <td>clerk</td>\n",
       "      <td>9 years</td>\n",
       "    </tr>\n",
       "    <tr>\n",
       "      <th>1</th>\n",
       "      <td>-0.706813</td>\n",
       "      <td>1.115192</td>\n",
       "      <td>-0.188998</td>\n",
       "      <td>-0.501591</td>\n",
       "      <td>-0.050409</td>\n",
       "      <td>-0.258671</td>\n",
       "      <td>-0.134608</td>\n",
       "      <td>-0.352997</td>\n",
       "      <td>-0.006711</td>\n",
       "      <td>0.079320</td>\n",
       "      <td>...</td>\n",
       "      <td>-0.063744</td>\n",
       "      <td>0.196719</td>\n",
       "      <td>-0.065418</td>\n",
       "      <td>-0.059127</td>\n",
       "      <td>5</td>\n",
       "      <td>34.063798</td>\n",
       "      <td>9974.0</td>\n",
       "      <td>0.0</td>\n",
       "      <td>Human Resources Specialist</td>\n",
       "      <td>&lt; 1 year</td>\n",
       "    </tr>\n",
       "    <tr>\n",
       "      <th>2</th>\n",
       "      <td>-0.554280</td>\n",
       "      <td>-0.033543</td>\n",
       "      <td>-0.170791</td>\n",
       "      <td>-0.565153</td>\n",
       "      <td>-0.456710</td>\n",
       "      <td>-0.409368</td>\n",
       "      <td>0.306386</td>\n",
       "      <td>-0.555055</td>\n",
       "      <td>0.404127</td>\n",
       "      <td>0.584874</td>\n",
       "      <td>...</td>\n",
       "      <td>-0.103375</td>\n",
       "      <td>-0.089886</td>\n",
       "      <td>-0.103545</td>\n",
       "      <td>-0.047431</td>\n",
       "      <td>6</td>\n",
       "      <td>34.063798</td>\n",
       "      <td>38295.0</td>\n",
       "      <td>65.0</td>\n",
       "      <td>Driver</td>\n",
       "      <td>2 years</td>\n",
       "    </tr>\n",
       "    <tr>\n",
       "      <th>3</th>\n",
       "      <td>0.786108</td>\n",
       "      <td>-0.407065</td>\n",
       "      <td>-0.621405</td>\n",
       "      <td>0.578394</td>\n",
       "      <td>0.301274</td>\n",
       "      <td>0.573777</td>\n",
       "      <td>0.435595</td>\n",
       "      <td>-0.029566</td>\n",
       "      <td>0.662852</td>\n",
       "      <td>-0.136497</td>\n",
       "      <td>...</td>\n",
       "      <td>-0.045586</td>\n",
       "      <td>-0.200089</td>\n",
       "      <td>-0.075910</td>\n",
       "      <td>-0.045571</td>\n",
       "      <td>8</td>\n",
       "      <td>46.000000</td>\n",
       "      <td>55564.0</td>\n",
       "      <td>0.0</td>\n",
       "      <td>Us office of Personnel Management</td>\n",
       "      <td>10+ years</td>\n",
       "    </tr>\n",
       "    <tr>\n",
       "      <th>4</th>\n",
       "      <td>1.008113</td>\n",
       "      <td>0.906196</td>\n",
       "      <td>0.408162</td>\n",
       "      <td>-0.176537</td>\n",
       "      <td>-0.507946</td>\n",
       "      <td>0.672173</td>\n",
       "      <td>-0.864953</td>\n",
       "      <td>0.246941</td>\n",
       "      <td>0.484243</td>\n",
       "      <td>-0.120040</td>\n",
       "      <td>...</td>\n",
       "      <td>-0.027704</td>\n",
       "      <td>-0.008724</td>\n",
       "      <td>-0.019113</td>\n",
       "      <td>-0.021733</td>\n",
       "      <td>0</td>\n",
       "      <td>34.063798</td>\n",
       "      <td>47159.0</td>\n",
       "      <td>0.0</td>\n",
       "      <td>LAUSD-HOLLYWOOD HIGH SCHOOL</td>\n",
       "      <td>10+ years</td>\n",
       "    </tr>\n",
       "  </tbody>\n",
       "</table>\n",
       "<p>5 rows × 62 columns</p>\n",
       "</div>"
      ],
      "text/plain": [
       "          0         1         2         3         4         5         6  \\\n",
       "0 -0.505788 -0.260573 -0.511430 -0.051153  0.654535 -0.088000  0.274516   \n",
       "1 -0.706813  1.115192 -0.188998 -0.501591 -0.050409 -0.258671 -0.134608   \n",
       "2 -0.554280 -0.033543 -0.170791 -0.565153 -0.456710 -0.409368  0.306386   \n",
       "3  0.786108 -0.407065 -0.621405  0.578394  0.301274  0.573777  0.435595   \n",
       "4  1.008113  0.906196  0.408162 -0.176537 -0.507946  0.672173 -0.864953   \n",
       "\n",
       "          7         8         9  ...        52        53        54        55  \\\n",
       "0 -0.623671 -0.770680  1.081156  ...  0.007600 -0.017532 -0.007205 -0.000343   \n",
       "1 -0.352997 -0.006711  0.079320  ... -0.063744  0.196719 -0.065418 -0.059127   \n",
       "2 -0.555055  0.404127  0.584874  ... -0.103375 -0.089886 -0.103545 -0.047431   \n",
       "3 -0.029566  0.662852 -0.136497  ... -0.045586 -0.200089 -0.075910 -0.045571   \n",
       "4  0.246941  0.484243 -0.120040  ... -0.027704 -0.008724 -0.019113 -0.021733   \n",
       "\n",
       "   Clust_no  mths_since_last_delinq  tot_curr_bal  tot_colle_amt  \\\n",
       "0         3               50.000000       28699.0            0.0   \n",
       "1         5               34.063798        9974.0            0.0   \n",
       "2         6               34.063798       38295.0           65.0   \n",
       "3         8               46.000000       55564.0            0.0   \n",
       "4         0               34.063798       47159.0            0.0   \n",
       "\n",
       "                     Emp_designation  Experience  \n",
       "0                              clerk     9 years  \n",
       "1         Human Resources Specialist    < 1 year  \n",
       "2                             Driver     2 years  \n",
       "3  Us office of Personnel Management   10+ years  \n",
       "4        LAUSD-HOLLYWOOD HIGH SCHOOL   10+ years  \n",
       "\n",
       "[5 rows x 62 columns]"
      ]
     },
     "execution_count": 60,
     "metadata": {},
     "output_type": "execute_result"
    }
   ],
   "source": [
    "final_data.head()"
   ]
  },
  {
   "cell_type": "code",
   "execution_count": 61,
   "metadata": {},
   "outputs": [],
   "source": [
    "final_data['Emp_designation_new']=(final_data.groupby(['Clust_no'])['Emp_designation'].apply(lambda x: x.fillna(x.mode()[0])))"
   ]
  },
  {
   "cell_type": "code",
   "execution_count": 62,
   "metadata": {},
   "outputs": [],
   "source": [
    "final_data['Experience_new']=(final_data.groupby(['Clust_no'])['Experience'].apply(lambda x: x.fillna(x.mode()[0])))"
   ]
  },
  {
   "cell_type": "code",
   "execution_count": 63,
   "metadata": {},
   "outputs": [],
   "source": [
    "\n",
    "med=final_data.groupby('Clust_no')['mths_since_last_delinq'].transform('median')\n",
    "final_data['mths_since_last_delinq_new']=final_data['mths_since_last_delinq'].fillna(med)\n"
   ]
  },
  {
   "cell_type": "code",
   "execution_count": 64,
   "metadata": {},
   "outputs": [],
   "source": [
    "\n",
    "med=final_data.groupby('Clust_no')['tot_curr_bal'].transform('median')\n",
    "final_data['tot_curr_bal_new']=final_data['tot_curr_bal'].fillna(med)\n"
   ]
  },
  {
   "cell_type": "code",
   "execution_count": 65,
   "metadata": {},
   "outputs": [],
   "source": [
    "med=final_data.groupby('Clust_no')['tot_colle_amt'].transform('median')\n",
    "final_data['tot_colle_amt_new']=final_data['tot_colle_amt'].fillna(med)"
   ]
  },
  {
   "cell_type": "code",
   "execution_count": 66,
   "metadata": {},
   "outputs": [
    {
     "data": {
      "text/html": [
       "<div>\n",
       "<style scoped>\n",
       "    .dataframe tbody tr th:only-of-type {\n",
       "        vertical-align: middle;\n",
       "    }\n",
       "\n",
       "    .dataframe tbody tr th {\n",
       "        vertical-align: top;\n",
       "    }\n",
       "\n",
       "    .dataframe thead th {\n",
       "        text-align: right;\n",
       "    }\n",
       "</style>\n",
       "<table border=\"1\" class=\"dataframe\">\n",
       "  <thead>\n",
       "    <tr style=\"text-align: right;\">\n",
       "      <th></th>\n",
       "      <th>0</th>\n",
       "      <th>1</th>\n",
       "      <th>2</th>\n",
       "      <th>3</th>\n",
       "      <th>4</th>\n",
       "      <th>5</th>\n",
       "      <th>6</th>\n",
       "      <th>7</th>\n",
       "      <th>8</th>\n",
       "      <th>9</th>\n",
       "      <th>...</th>\n",
       "      <th>mths_since_last_delinq</th>\n",
       "      <th>tot_curr_bal</th>\n",
       "      <th>tot_colle_amt</th>\n",
       "      <th>Emp_designation</th>\n",
       "      <th>Experience</th>\n",
       "      <th>Emp_designation_new</th>\n",
       "      <th>Experience_new</th>\n",
       "      <th>mths_since_last_delinq_new</th>\n",
       "      <th>tot_curr_bal_new</th>\n",
       "      <th>tot_colle_amt_new</th>\n",
       "    </tr>\n",
       "  </thead>\n",
       "  <tbody>\n",
       "    <tr>\n",
       "      <th>0</th>\n",
       "      <td>-0.505788</td>\n",
       "      <td>-0.260573</td>\n",
       "      <td>-0.511430</td>\n",
       "      <td>-0.051153</td>\n",
       "      <td>0.654535</td>\n",
       "      <td>-0.088000</td>\n",
       "      <td>0.274516</td>\n",
       "      <td>-0.623671</td>\n",
       "      <td>-0.770680</td>\n",
       "      <td>1.081156</td>\n",
       "      <td>...</td>\n",
       "      <td>50.000000</td>\n",
       "      <td>28699.0</td>\n",
       "      <td>0.0</td>\n",
       "      <td>clerk</td>\n",
       "      <td>9 years</td>\n",
       "      <td>clerk</td>\n",
       "      <td>9 years</td>\n",
       "      <td>50.000000</td>\n",
       "      <td>28699.0</td>\n",
       "      <td>0.0</td>\n",
       "    </tr>\n",
       "    <tr>\n",
       "      <th>1</th>\n",
       "      <td>-0.706813</td>\n",
       "      <td>1.115192</td>\n",
       "      <td>-0.188998</td>\n",
       "      <td>-0.501591</td>\n",
       "      <td>-0.050409</td>\n",
       "      <td>-0.258671</td>\n",
       "      <td>-0.134608</td>\n",
       "      <td>-0.352997</td>\n",
       "      <td>-0.006711</td>\n",
       "      <td>0.079320</td>\n",
       "      <td>...</td>\n",
       "      <td>34.063798</td>\n",
       "      <td>9974.0</td>\n",
       "      <td>0.0</td>\n",
       "      <td>Human Resources Specialist</td>\n",
       "      <td>&lt; 1 year</td>\n",
       "      <td>Human Resources Specialist</td>\n",
       "      <td>&lt; 1 year</td>\n",
       "      <td>34.063798</td>\n",
       "      <td>9974.0</td>\n",
       "      <td>0.0</td>\n",
       "    </tr>\n",
       "    <tr>\n",
       "      <th>2</th>\n",
       "      <td>-0.554280</td>\n",
       "      <td>-0.033543</td>\n",
       "      <td>-0.170791</td>\n",
       "      <td>-0.565153</td>\n",
       "      <td>-0.456710</td>\n",
       "      <td>-0.409368</td>\n",
       "      <td>0.306386</td>\n",
       "      <td>-0.555055</td>\n",
       "      <td>0.404127</td>\n",
       "      <td>0.584874</td>\n",
       "      <td>...</td>\n",
       "      <td>34.063798</td>\n",
       "      <td>38295.0</td>\n",
       "      <td>65.0</td>\n",
       "      <td>Driver</td>\n",
       "      <td>2 years</td>\n",
       "      <td>Driver</td>\n",
       "      <td>2 years</td>\n",
       "      <td>34.063798</td>\n",
       "      <td>38295.0</td>\n",
       "      <td>65.0</td>\n",
       "    </tr>\n",
       "    <tr>\n",
       "      <th>3</th>\n",
       "      <td>0.786108</td>\n",
       "      <td>-0.407065</td>\n",
       "      <td>-0.621405</td>\n",
       "      <td>0.578394</td>\n",
       "      <td>0.301274</td>\n",
       "      <td>0.573777</td>\n",
       "      <td>0.435595</td>\n",
       "      <td>-0.029566</td>\n",
       "      <td>0.662852</td>\n",
       "      <td>-0.136497</td>\n",
       "      <td>...</td>\n",
       "      <td>46.000000</td>\n",
       "      <td>55564.0</td>\n",
       "      <td>0.0</td>\n",
       "      <td>Us office of Personnel Management</td>\n",
       "      <td>10+ years</td>\n",
       "      <td>Us office of Personnel Management</td>\n",
       "      <td>10+ years</td>\n",
       "      <td>46.000000</td>\n",
       "      <td>55564.0</td>\n",
       "      <td>0.0</td>\n",
       "    </tr>\n",
       "    <tr>\n",
       "      <th>4</th>\n",
       "      <td>1.008113</td>\n",
       "      <td>0.906196</td>\n",
       "      <td>0.408162</td>\n",
       "      <td>-0.176537</td>\n",
       "      <td>-0.507946</td>\n",
       "      <td>0.672173</td>\n",
       "      <td>-0.864953</td>\n",
       "      <td>0.246941</td>\n",
       "      <td>0.484243</td>\n",
       "      <td>-0.120040</td>\n",
       "      <td>...</td>\n",
       "      <td>34.063798</td>\n",
       "      <td>47159.0</td>\n",
       "      <td>0.0</td>\n",
       "      <td>LAUSD-HOLLYWOOD HIGH SCHOOL</td>\n",
       "      <td>10+ years</td>\n",
       "      <td>LAUSD-HOLLYWOOD HIGH SCHOOL</td>\n",
       "      <td>10+ years</td>\n",
       "      <td>34.063798</td>\n",
       "      <td>47159.0</td>\n",
       "      <td>0.0</td>\n",
       "    </tr>\n",
       "    <tr>\n",
       "      <th>...</th>\n",
       "      <td>...</td>\n",
       "      <td>...</td>\n",
       "      <td>...</td>\n",
       "      <td>...</td>\n",
       "      <td>...</td>\n",
       "      <td>...</td>\n",
       "      <td>...</td>\n",
       "      <td>...</td>\n",
       "      <td>...</td>\n",
       "      <td>...</td>\n",
       "      <td>...</td>\n",
       "      <td>...</td>\n",
       "      <td>...</td>\n",
       "      <td>...</td>\n",
       "      <td>...</td>\n",
       "      <td>...</td>\n",
       "      <td>...</td>\n",
       "      <td>...</td>\n",
       "      <td>...</td>\n",
       "      <td>...</td>\n",
       "      <td>...</td>\n",
       "    </tr>\n",
       "    <tr>\n",
       "      <th>887374</th>\n",
       "      <td>0.305842</td>\n",
       "      <td>0.709679</td>\n",
       "      <td>0.734217</td>\n",
       "      <td>0.001915</td>\n",
       "      <td>0.224860</td>\n",
       "      <td>-0.209854</td>\n",
       "      <td>-0.300099</td>\n",
       "      <td>-0.250813</td>\n",
       "      <td>0.863744</td>\n",
       "      <td>0.485697</td>\n",
       "      <td>...</td>\n",
       "      <td>77.000000</td>\n",
       "      <td>143920.0</td>\n",
       "      <td>0.0</td>\n",
       "      <td>Network administrator</td>\n",
       "      <td>1 year</td>\n",
       "      <td>Network administrator</td>\n",
       "      <td>1 year</td>\n",
       "      <td>77.000000</td>\n",
       "      <td>143920.0</td>\n",
       "      <td>0.0</td>\n",
       "    </tr>\n",
       "    <tr>\n",
       "      <th>887375</th>\n",
       "      <td>0.207360</td>\n",
       "      <td>-1.112811</td>\n",
       "      <td>0.161401</td>\n",
       "      <td>-0.800028</td>\n",
       "      <td>0.437964</td>\n",
       "      <td>0.180698</td>\n",
       "      <td>-0.109830</td>\n",
       "      <td>-0.481213</td>\n",
       "      <td>-0.838090</td>\n",
       "      <td>0.187400</td>\n",
       "      <td>...</td>\n",
       "      <td>19.000000</td>\n",
       "      <td>772713.0</td>\n",
       "      <td>0.0</td>\n",
       "      <td>Credit Risk Analyst</td>\n",
       "      <td>1 year</td>\n",
       "      <td>Credit Risk Analyst</td>\n",
       "      <td>1 year</td>\n",
       "      <td>19.000000</td>\n",
       "      <td>772713.0</td>\n",
       "      <td>0.0</td>\n",
       "    </tr>\n",
       "    <tr>\n",
       "      <th>887376</th>\n",
       "      <td>0.467055</td>\n",
       "      <td>-0.646244</td>\n",
       "      <td>0.799491</td>\n",
       "      <td>-0.779626</td>\n",
       "      <td>0.932640</td>\n",
       "      <td>-0.062534</td>\n",
       "      <td>0.281517</td>\n",
       "      <td>0.334020</td>\n",
       "      <td>-0.974605</td>\n",
       "      <td>0.774451</td>\n",
       "      <td>...</td>\n",
       "      <td>54.000000</td>\n",
       "      <td>NaN</td>\n",
       "      <td>NaN</td>\n",
       "      <td>USPS/Nashua L&amp;DC</td>\n",
       "      <td>10+ years</td>\n",
       "      <td>USPS/Nashua L&amp;DC</td>\n",
       "      <td>10+ years</td>\n",
       "      <td>54.000000</td>\n",
       "      <td>71852.0</td>\n",
       "      <td>0.0</td>\n",
       "    </tr>\n",
       "    <tr>\n",
       "      <th>887377</th>\n",
       "      <td>-0.787296</td>\n",
       "      <td>0.929093</td>\n",
       "      <td>0.591689</td>\n",
       "      <td>-0.030875</td>\n",
       "      <td>0.215929</td>\n",
       "      <td>-0.029112</td>\n",
       "      <td>0.108350</td>\n",
       "      <td>-0.362874</td>\n",
       "      <td>0.252186</td>\n",
       "      <td>0.345354</td>\n",
       "      <td>...</td>\n",
       "      <td>34.063798</td>\n",
       "      <td>291998.0</td>\n",
       "      <td>0.0</td>\n",
       "      <td>Computer Engineer</td>\n",
       "      <td>&lt; 1 year</td>\n",
       "      <td>Computer Engineer</td>\n",
       "      <td>&lt; 1 year</td>\n",
       "      <td>34.063798</td>\n",
       "      <td>291998.0</td>\n",
       "      <td>0.0</td>\n",
       "    </tr>\n",
       "    <tr>\n",
       "      <th>887378</th>\n",
       "      <td>0.536003</td>\n",
       "      <td>-0.453091</td>\n",
       "      <td>-0.299200</td>\n",
       "      <td>0.059472</td>\n",
       "      <td>0.705278</td>\n",
       "      <td>-0.437592</td>\n",
       "      <td>-0.243602</td>\n",
       "      <td>-0.408309</td>\n",
       "      <td>0.214957</td>\n",
       "      <td>0.176841</td>\n",
       "      <td>...</td>\n",
       "      <td>34.063798</td>\n",
       "      <td>NaN</td>\n",
       "      <td>NaN</td>\n",
       "      <td>Jimmy John's Sandwiches</td>\n",
       "      <td>2 years</td>\n",
       "      <td>Jimmy John's Sandwiches</td>\n",
       "      <td>2 years</td>\n",
       "      <td>34.063798</td>\n",
       "      <td>93777.0</td>\n",
       "      <td>0.0</td>\n",
       "    </tr>\n",
       "  </tbody>\n",
       "</table>\n",
       "<p>887379 rows × 67 columns</p>\n",
       "</div>"
      ],
      "text/plain": [
       "               0         1         2         3         4         5         6  \\\n",
       "0      -0.505788 -0.260573 -0.511430 -0.051153  0.654535 -0.088000  0.274516   \n",
       "1      -0.706813  1.115192 -0.188998 -0.501591 -0.050409 -0.258671 -0.134608   \n",
       "2      -0.554280 -0.033543 -0.170791 -0.565153 -0.456710 -0.409368  0.306386   \n",
       "3       0.786108 -0.407065 -0.621405  0.578394  0.301274  0.573777  0.435595   \n",
       "4       1.008113  0.906196  0.408162 -0.176537 -0.507946  0.672173 -0.864953   \n",
       "...          ...       ...       ...       ...       ...       ...       ...   \n",
       "887374  0.305842  0.709679  0.734217  0.001915  0.224860 -0.209854 -0.300099   \n",
       "887375  0.207360 -1.112811  0.161401 -0.800028  0.437964  0.180698 -0.109830   \n",
       "887376  0.467055 -0.646244  0.799491 -0.779626  0.932640 -0.062534  0.281517   \n",
       "887377 -0.787296  0.929093  0.591689 -0.030875  0.215929 -0.029112  0.108350   \n",
       "887378  0.536003 -0.453091 -0.299200  0.059472  0.705278 -0.437592 -0.243602   \n",
       "\n",
       "               7         8         9  ...  mths_since_last_delinq  \\\n",
       "0      -0.623671 -0.770680  1.081156  ...               50.000000   \n",
       "1      -0.352997 -0.006711  0.079320  ...               34.063798   \n",
       "2      -0.555055  0.404127  0.584874  ...               34.063798   \n",
       "3      -0.029566  0.662852 -0.136497  ...               46.000000   \n",
       "4       0.246941  0.484243 -0.120040  ...               34.063798   \n",
       "...          ...       ...       ...  ...                     ...   \n",
       "887374 -0.250813  0.863744  0.485697  ...               77.000000   \n",
       "887375 -0.481213 -0.838090  0.187400  ...               19.000000   \n",
       "887376  0.334020 -0.974605  0.774451  ...               54.000000   \n",
       "887377 -0.362874  0.252186  0.345354  ...               34.063798   \n",
       "887378 -0.408309  0.214957  0.176841  ...               34.063798   \n",
       "\n",
       "        tot_curr_bal  tot_colle_amt                    Emp_designation  \\\n",
       "0            28699.0            0.0                              clerk   \n",
       "1             9974.0            0.0         Human Resources Specialist   \n",
       "2            38295.0           65.0                             Driver   \n",
       "3            55564.0            0.0  Us office of Personnel Management   \n",
       "4            47159.0            0.0        LAUSD-HOLLYWOOD HIGH SCHOOL   \n",
       "...              ...            ...                                ...   \n",
       "887374      143920.0            0.0              Network administrator   \n",
       "887375      772713.0            0.0                Credit Risk Analyst   \n",
       "887376           NaN            NaN                   USPS/Nashua L&DC   \n",
       "887377      291998.0            0.0                  Computer Engineer   \n",
       "887378           NaN            NaN            Jimmy John's Sandwiches   \n",
       "\n",
       "        Experience                Emp_designation_new  Experience_new  \\\n",
       "0          9 years                              clerk         9 years   \n",
       "1         < 1 year         Human Resources Specialist        < 1 year   \n",
       "2          2 years                             Driver         2 years   \n",
       "3        10+ years  Us office of Personnel Management       10+ years   \n",
       "4        10+ years        LAUSD-HOLLYWOOD HIGH SCHOOL       10+ years   \n",
       "...            ...                                ...             ...   \n",
       "887374      1 year              Network administrator          1 year   \n",
       "887375      1 year                Credit Risk Analyst          1 year   \n",
       "887376   10+ years                   USPS/Nashua L&DC       10+ years   \n",
       "887377    < 1 year                  Computer Engineer        < 1 year   \n",
       "887378     2 years            Jimmy John's Sandwiches         2 years   \n",
       "\n",
       "        mths_since_last_delinq_new  tot_curr_bal_new  tot_colle_amt_new  \n",
       "0                        50.000000           28699.0                0.0  \n",
       "1                        34.063798            9974.0                0.0  \n",
       "2                        34.063798           38295.0               65.0  \n",
       "3                        46.000000           55564.0                0.0  \n",
       "4                        34.063798           47159.0                0.0  \n",
       "...                            ...               ...                ...  \n",
       "887374                   77.000000          143920.0                0.0  \n",
       "887375                   19.000000          772713.0                0.0  \n",
       "887376                   54.000000           71852.0                0.0  \n",
       "887377                   34.063798          291998.0                0.0  \n",
       "887378                   34.063798           93777.0                0.0  \n",
       "\n",
       "[887379 rows x 67 columns]"
      ]
     },
     "execution_count": 66,
     "metadata": {},
     "output_type": "execute_result"
    }
   ],
   "source": [
    "final_data"
   ]
  },
  {
   "cell_type": "code",
   "execution_count": 67,
   "metadata": {},
   "outputs": [],
   "source": [
    "X = final_data[['Emp_designation_new','Experience_new','mths_since_last_delinq_new','tot_curr_bal_new','tot_colle_amt_new']]\n",
    "\n",
    "data_final=pd.concat([data_clust, X], axis=1, sort=False)\n",
    "\n",
    "data_final.rename(columns={'Emp_designation_new':'Emp_designation','Experience_new':'Experience','mths_since_last_delinq_new':\n",
    "                           'mths_since_last_delinq','tot_curr_bal_new':'tot_curr_bal','tot_colle_amt_new':'tot_colle_amt'},\n",
    "                  inplace=True)"
   ]
  },
  {
   "cell_type": "code",
   "execution_count": 68,
   "metadata": {},
   "outputs": [
    {
     "data": {
      "text/plain": [
       "ï»¿member_id                  0.000000\n",
       "loan_amnt                     0.000000\n",
       "terms                         0.000000\n",
       "batch_ID                      0.147342\n",
       "Rate_of_intrst                0.000000\n",
       "grade                         0.000000\n",
       "sub_grade                     0.000000\n",
       "home_ownership                0.000000\n",
       "annual_inc                    0.000000\n",
       "verification_status           0.000000\n",
       "purpose                       0.000000\n",
       "State                         0.000000\n",
       "debt_income_ratio             0.000000\n",
       "delinq_2yrs                   0.000000\n",
       "inq_last_6mths                0.000000\n",
       "numb_credit                   0.000000\n",
       "pub_rec                       0.000000\n",
       "total revol_bal               0.000000\n",
       "total_credits                 0.000000\n",
       "initial_list_status           0.000000\n",
       "total_rec_int                 0.000000\n",
       "total_rec_late_fee            0.000000\n",
       "recoveries                    0.000000\n",
       "collection_recovery_fee       0.000000\n",
       "collections_12_mths_ex_med    0.000000\n",
       "application_type              0.000000\n",
       "last_week_pay                 0.000000\n",
       "acc_now_delinq                0.000000\n",
       "Emp_designation               0.000000\n",
       "Experience                    0.000000\n",
       "mths_since_last_delinq        0.000000\n",
       "tot_curr_bal                  0.000000\n",
       "tot_colle_amt                 0.000000\n",
       "dtype: float64"
      ]
     },
     "execution_count": 68,
     "metadata": {},
     "output_type": "execute_result"
    }
   ],
   "source": [
    "data_final.isna().mean()"
   ]
  },
  {
   "cell_type": "code",
   "execution_count": 72,
   "metadata": {},
   "outputs": [
    {
     "data": {
      "text/plain": [
       "Index(['ï»¿member_id ', 'loan_amnt ', 'terms', 'batch_ID ', 'Rate_of_intrst',\n",
       "       'grade', 'sub_grade', 'home_ownership', 'annual_inc',\n",
       "       'verification_status', 'purpose', 'State', 'debt_income_ratio',\n",
       "       'delinq_2yrs', 'inq_last_6mths', 'numb_credit', 'pub_rec',\n",
       "       'total revol_bal', 'total_credits', 'initial_list_status',\n",
       "       'total_rec_int', 'total_rec_late_fee', 'recoveries',\n",
       "       'collection_recovery_fee', 'collections_12_mths_ex_med',\n",
       "       'application_type', 'last_week_pay', 'acc_now_delinq',\n",
       "       'Emp_designation', 'Experience', 'mths_since_last_delinq',\n",
       "       'tot_curr_bal', 'tot_colle_amt'],\n",
       "      dtype='object')"
      ]
     },
     "execution_count": 72,
     "metadata": {},
     "output_type": "execute_result"
    }
   ],
   "source": [
    "data_final.columns"
   ]
  },
  {
   "cell_type": "code",
   "execution_count": 75,
   "metadata": {},
   "outputs": [
    {
     "data": {
      "text/plain": [
       "Index(['loan_amnt ', 'terms', 'Rate_of_intrst', 'grade', 'sub_grade',\n",
       "       'home_ownership', 'annual_inc', 'verification_status', 'purpose',\n",
       "       'State', 'debt_income_ratio', 'delinq_2yrs', 'inq_last_6mths',\n",
       "       'numb_credit', 'pub_rec', 'total revol_bal', 'total_credits',\n",
       "       'initial_list_status', 'total_rec_int', 'total_rec_late_fee',\n",
       "       'recoveries', 'collection_recovery_fee', 'collections_12_mths_ex_med',\n",
       "       'application_type', 'last_week_pay', 'acc_now_delinq',\n",
       "       'Emp_designation', 'Experience', 'mths_since_last_delinq',\n",
       "       'tot_curr_bal', 'tot_colle_amt'],\n",
       "      dtype='object')"
      ]
     },
     "execution_count": 75,
     "metadata": {},
     "output_type": "execute_result"
    }
   ],
   "source": [
    "data_final.columns"
   ]
  },
  {
   "cell_type": "code",
   "execution_count": 76,
   "metadata": {
    "scrolled": true
   },
   "outputs": [],
   "source": [
    "data_final.to_csv(r'data_no_null.csv')"
   ]
  },
  {
   "cell_type": "markdown",
   "metadata": {},
   "source": [
    "### End of Data Analysis and Imputation\n",
    "  - Constructed a new dataset WITHOUT Null/Missing values and RELEVANT dependent variables. \n",
    "  - Analysed various types of Imputation and Encoding Methods.\n",
    "\n",
    "Further, this new data and the raw data will be visulaized to understand how and what value specific variables add to the data.\n",
    "Eventually, a model will be built and deployed to predict the revolving balance."
   ]
  }
 ],
 "metadata": {
  "colab": {
   "collapsed_sections": [],
   "name": "22-07-2020.ipynb",
   "provenance": []
  },
  "kernelspec": {
   "display_name": "Python 3",
   "language": "python",
   "name": "python3"
  },
  "language_info": {
   "codemirror_mode": {
    "name": "ipython",
    "version": 3
   },
   "file_extension": ".py",
   "mimetype": "text/x-python",
   "name": "python",
   "nbconvert_exporter": "python",
   "pygments_lexer": "ipython3",
   "version": "3.8.3"
  }
 },
 "nbformat": 4,
 "nbformat_minor": 1
}
