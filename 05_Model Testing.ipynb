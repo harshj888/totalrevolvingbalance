{
 "cells": [
  {
   "cell_type": "code",
   "execution_count": 1,
   "metadata": {},
   "outputs": [],
   "source": [
    "import pickle\n",
    "import numpy as np\n",
    "from flask import Flask, request, render_template\n",
    "import xgboost as xgb"
   ]
  },
  {
   "cell_type": "code",
   "execution_count": 2,
   "metadata": {},
   "outputs": [],
   "source": [
    "terms = pickle.load(open('terms.obj','rb'))\n",
    "grade = pickle.load(open('grade.obj','rb'))\n",
    "home_ownership = pickle.load(open('home_ownership.obj','rb'))\n",
    "verification_status = pickle.load(open('verification_status.obj','rb'))\n",
    "purpose = pickle.load(open('purpose.obj','rb'))\n",
    "initial_list_status = pickle.load(open('initial_list_status.obj','rb'))\n",
    "Experience = pickle.load(open('Experience.obj','rb'))\n",
    "model = pickle.load(open('finalized_model.pkl','rb'))"
   ]
  },
  {
   "cell_type": "code",
   "execution_count": null,
   "metadata": {},
   "outputs": [],
   "source": [
    "#Experience"
   ]
  },
  {
   "cell_type": "code",
   "execution_count": 3,
   "metadata": {},
   "outputs": [],
   "source": [
    "    features=[]\n",
    "    a= (float('14350'))\n",
    "    features.append(a)\n",
    "    b='36 months'\n",
    "    features.append(terms['terms'][b])\n",
    "    c=(float('19.19'))\n",
    "    features.append(c)\n",
    "    d='E'\n",
    "    features.append(grade['grade'][d])\n",
    "    e='OWN'\n",
    "    features.append(home_ownership['home_ownership'][e])\n",
    "    f=(float('28700'))\n",
    "    features.append(f)\n",
    "    g='Source Verified'\n",
    "    features.append(verification_status['verification_status'][g])\n",
    "    h='debt_consolidation'\n",
    "    features.append(purpose['purpose'][h])\n",
    "    i=(float('33.88'))\n",
    "    features.append(i)\n",
    "    j=(float('0'))\n",
    "    features.append(j)\n",
    "    k=(float('1'))\n",
    "    features.append(k)\n",
    "    l=(float('14'))\n",
    "    features.append(l)\n",
    "    m=(float('1'))\n",
    "    features.append(m)\n",
    "    n=(float('28'))\n",
    "    features.append(n)\n",
    "    o='f'\n",
    "    features.append(initial_list_status['initial_list_status'][o])\n",
    "    p=(float('1173.84'))\n",
    "    features.append(p)\n",
    "    q=(float('0'))\n",
    "    features.append(q)\n",
    "    r=(float('0'))\n",
    "    features.append(r)\n",
    "    s='9 years'\n",
    "    features.append(Experience['Experience'][s])\n",
    "    t=(float('50'))\n",
    "    features.append(t)\n",
    "    u=(float('28699'))\n",
    "    features.append(u)\n",
    "    v=(float('0'))\n",
    "    features.append(v)"
   ]
  },
  {
   "cell_type": "code",
   "execution_count": 4,
   "metadata": {},
   "outputs": [
    {
     "data": {
      "text/plain": [
       "[14350.0,\n",
       " 0.699954585357553,\n",
       " 19.19,\n",
       " 0.07967846883913186,\n",
       " 0.09857118547993586,\n",
       " 28700.0,\n",
       " 0.3713835914530319,\n",
       " 0.5907453297858074,\n",
       " 33.88,\n",
       " 0.0,\n",
       " 1.0,\n",
       " 14.0,\n",
       " 1.0,\n",
       " 28.0,\n",
       " 0.5148285005617668,\n",
       " 1173.84,\n",
       " 0.0,\n",
       " 0.0,\n",
       " 0.03905546559023822,\n",
       " 50.0,\n",
       " 28699.0,\n",
       " 0.0]"
      ]
     },
     "execution_count": 4,
     "metadata": {},
     "output_type": "execute_result"
    }
   ],
   "source": [
    "features"
   ]
  },
  {
   "cell_type": "code",
   "execution_count": 5,
   "metadata": {},
   "outputs": [
    {
     "data": {
      "text/plain": [
       "array([11524.643], dtype=float32)"
      ]
     },
     "execution_count": 5,
     "metadata": {},
     "output_type": "execute_result"
    }
   ],
   "source": [
    "final_features = np.array(features).reshape(-1,22)\n",
    "prediction = model.predict(final_features)\n",
    "prediction"
   ]
  },
  {
   "cell_type": "code",
   "execution_count": null,
   "metadata": {},
   "outputs": [],
   "source": []
  }
 ],
 "metadata": {
  "kernelspec": {
   "display_name": "Python 3",
   "language": "python",
   "name": "python3"
  },
  "language_info": {
   "codemirror_mode": {
    "name": "ipython",
    "version": 3
   },
   "file_extension": ".py",
   "mimetype": "text/x-python",
   "name": "python",
   "nbconvert_exporter": "python",
   "pygments_lexer": "ipython3",
   "version": "3.8.3"
  }
 },
 "nbformat": 4,
 "nbformat_minor": 4
}
